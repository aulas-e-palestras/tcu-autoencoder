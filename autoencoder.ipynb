{
 "cells": [
  {
   "cell_type": "markdown",
   "id": "5fc41a05-01fc-4823-b264-737b3fe2ea49",
   "metadata": {},
   "source": [
    "# Detecão de Anomalias - Autoencoder"
   ]
  },
  {
   "cell_type": "code",
   "execution_count": 289,
   "id": "1e4c3ba9-cc35-47d8-8f88-b1df5115ea72",
   "metadata": {},
   "outputs": [],
   "source": [
    "## qol\n",
    "from tqdm import tqdm\n",
    "import warnings\n",
    "from silence_tensorflow import silence_tensorflow\n",
    "warnings.filterwarnings('ignore')\n",
    "silence_tensorflow()\n",
    "\n",
    "## autoencoder\n",
    "import tensorflow as tf\n",
    "import keras.backend as K\n",
    "from keras import models\n",
    "from keras import layers\n",
    "from keras import losses\n",
    "from keras import callbacks\n",
    "\n",
    "## utils\n",
    "import pandas as pd\n",
    "import numpy as np\n",
    "import matplotlib.pyplot as plt\n",
    "import seaborn as sns\n",
    "from scipy.stats import shapiro\n",
    "import plotly.express as px\n",
    "\n",
    "## sklearn\n",
    "from sklearn.model_selection import train_test_split\n",
    "from sklearn.metrics import confusion_matrix\n",
    "from sklearn.metrics import precision_recall_curve\n",
    "from sklearn.manifold import TSNE\n",
    "from sklearn.pipeline import make_pipeline\n",
    "from sklearn.preprocessing import Normalizer\n",
    "from sklearn.preprocessing import MinMaxScaler\n",
    "import sklearn\n",
    "sklearn.set_config(display='diagram')\n",
    "\n",
    "## constantes\n",
    "RANDOM_SEED = 42 ## existe outra?\n",
    "VAL_SIZE = 0.2\n",
    "EPOCHS = 100\n",
    "BATCH_SIZE = 512\n",
    "TRAINING_SIZE = 200000\n",
    "VAL_SIZE = 0.2\n",
    "\n",
    "np.random.seed(RANDOM_SEED)\n",
    "tf.random.set_seed(RANDOM_SEED)"
   ]
  },
  {
   "cell_type": "code",
   "execution_count": 292,
   "id": "c5a5bd6b-dacd-4f94-96ac-a61a83522537",
   "metadata": {},
   "outputs": [
    {
     "name": "stdout",
     "output_type": "stream",
     "text": [
      "(284807, 29)\n"
     ]
    },
    {
     "data": {
      "text/html": [
       "<div>\n",
       "<style scoped>\n",
       "    .dataframe tbody tr th:only-of-type {\n",
       "        vertical-align: middle;\n",
       "    }\n",
       "\n",
       "    .dataframe tbody tr th {\n",
       "        vertical-align: top;\n",
       "    }\n",
       "\n",
       "    .dataframe thead th {\n",
       "        text-align: right;\n",
       "    }\n",
       "</style>\n",
       "<table border=\"1\" class=\"dataframe\">\n",
       "  <thead>\n",
       "    <tr style=\"text-align: right;\">\n",
       "      <th></th>\n",
       "      <th>V1</th>\n",
       "      <th>V2</th>\n",
       "      <th>V3</th>\n",
       "      <th>V4</th>\n",
       "      <th>V5</th>\n",
       "      <th>V6</th>\n",
       "      <th>V7</th>\n",
       "      <th>V8</th>\n",
       "      <th>V9</th>\n",
       "      <th>V10</th>\n",
       "      <th>...</th>\n",
       "      <th>V20</th>\n",
       "      <th>V21</th>\n",
       "      <th>V22</th>\n",
       "      <th>V23</th>\n",
       "      <th>V24</th>\n",
       "      <th>V25</th>\n",
       "      <th>V26</th>\n",
       "      <th>V27</th>\n",
       "      <th>V28</th>\n",
       "      <th>Class</th>\n",
       "    </tr>\n",
       "  </thead>\n",
       "  <tbody>\n",
       "    <tr>\n",
       "      <th>0</th>\n",
       "      <td>-1.359807</td>\n",
       "      <td>-0.072781</td>\n",
       "      <td>2.536347</td>\n",
       "      <td>1.378155</td>\n",
       "      <td>-0.338321</td>\n",
       "      <td>0.462388</td>\n",
       "      <td>0.239599</td>\n",
       "      <td>0.098698</td>\n",
       "      <td>0.363787</td>\n",
       "      <td>0.090794</td>\n",
       "      <td>...</td>\n",
       "      <td>0.251412</td>\n",
       "      <td>-0.018307</td>\n",
       "      <td>0.277838</td>\n",
       "      <td>-0.110474</td>\n",
       "      <td>0.066928</td>\n",
       "      <td>0.128539</td>\n",
       "      <td>-0.189115</td>\n",
       "      <td>0.133558</td>\n",
       "      <td>-0.021053</td>\n",
       "      <td>0</td>\n",
       "    </tr>\n",
       "    <tr>\n",
       "      <th>1</th>\n",
       "      <td>1.191857</td>\n",
       "      <td>0.266151</td>\n",
       "      <td>0.166480</td>\n",
       "      <td>0.448154</td>\n",
       "      <td>0.060018</td>\n",
       "      <td>-0.082361</td>\n",
       "      <td>-0.078803</td>\n",
       "      <td>0.085102</td>\n",
       "      <td>-0.255425</td>\n",
       "      <td>-0.166974</td>\n",
       "      <td>...</td>\n",
       "      <td>-0.069083</td>\n",
       "      <td>-0.225775</td>\n",
       "      <td>-0.638672</td>\n",
       "      <td>0.101288</td>\n",
       "      <td>-0.339846</td>\n",
       "      <td>0.167170</td>\n",
       "      <td>0.125895</td>\n",
       "      <td>-0.008983</td>\n",
       "      <td>0.014724</td>\n",
       "      <td>0</td>\n",
       "    </tr>\n",
       "    <tr>\n",
       "      <th>2</th>\n",
       "      <td>-1.358354</td>\n",
       "      <td>-1.340163</td>\n",
       "      <td>1.773209</td>\n",
       "      <td>0.379780</td>\n",
       "      <td>-0.503198</td>\n",
       "      <td>1.800499</td>\n",
       "      <td>0.791461</td>\n",
       "      <td>0.247676</td>\n",
       "      <td>-1.514654</td>\n",
       "      <td>0.207643</td>\n",
       "      <td>...</td>\n",
       "      <td>0.524980</td>\n",
       "      <td>0.247998</td>\n",
       "      <td>0.771679</td>\n",
       "      <td>0.909412</td>\n",
       "      <td>-0.689281</td>\n",
       "      <td>-0.327642</td>\n",
       "      <td>-0.139097</td>\n",
       "      <td>-0.055353</td>\n",
       "      <td>-0.059752</td>\n",
       "      <td>0</td>\n",
       "    </tr>\n",
       "    <tr>\n",
       "      <th>3</th>\n",
       "      <td>-0.966272</td>\n",
       "      <td>-0.185226</td>\n",
       "      <td>1.792993</td>\n",
       "      <td>-0.863291</td>\n",
       "      <td>-0.010309</td>\n",
       "      <td>1.247203</td>\n",
       "      <td>0.237609</td>\n",
       "      <td>0.377436</td>\n",
       "      <td>-1.387024</td>\n",
       "      <td>-0.054952</td>\n",
       "      <td>...</td>\n",
       "      <td>-0.208038</td>\n",
       "      <td>-0.108300</td>\n",
       "      <td>0.005274</td>\n",
       "      <td>-0.190321</td>\n",
       "      <td>-1.175575</td>\n",
       "      <td>0.647376</td>\n",
       "      <td>-0.221929</td>\n",
       "      <td>0.062723</td>\n",
       "      <td>0.061458</td>\n",
       "      <td>0</td>\n",
       "    </tr>\n",
       "    <tr>\n",
       "      <th>4</th>\n",
       "      <td>-1.158233</td>\n",
       "      <td>0.877737</td>\n",
       "      <td>1.548718</td>\n",
       "      <td>0.403034</td>\n",
       "      <td>-0.407193</td>\n",
       "      <td>0.095921</td>\n",
       "      <td>0.592941</td>\n",
       "      <td>-0.270533</td>\n",
       "      <td>0.817739</td>\n",
       "      <td>0.753074</td>\n",
       "      <td>...</td>\n",
       "      <td>0.408542</td>\n",
       "      <td>-0.009431</td>\n",
       "      <td>0.798278</td>\n",
       "      <td>-0.137458</td>\n",
       "      <td>0.141267</td>\n",
       "      <td>-0.206010</td>\n",
       "      <td>0.502292</td>\n",
       "      <td>0.219422</td>\n",
       "      <td>0.215153</td>\n",
       "      <td>0</td>\n",
       "    </tr>\n",
       "  </tbody>\n",
       "</table>\n",
       "<p>5 rows × 29 columns</p>\n",
       "</div>"
      ],
      "text/plain": [
       "         V1        V2        V3        V4        V5        V6        V7  \\\n",
       "0 -1.359807 -0.072781  2.536347  1.378155 -0.338321  0.462388  0.239599   \n",
       "1  1.191857  0.266151  0.166480  0.448154  0.060018 -0.082361 -0.078803   \n",
       "2 -1.358354 -1.340163  1.773209  0.379780 -0.503198  1.800499  0.791461   \n",
       "3 -0.966272 -0.185226  1.792993 -0.863291 -0.010309  1.247203  0.237609   \n",
       "4 -1.158233  0.877737  1.548718  0.403034 -0.407193  0.095921  0.592941   \n",
       "\n",
       "         V8        V9       V10  ...       V20       V21       V22       V23  \\\n",
       "0  0.098698  0.363787  0.090794  ...  0.251412 -0.018307  0.277838 -0.110474   \n",
       "1  0.085102 -0.255425 -0.166974  ... -0.069083 -0.225775 -0.638672  0.101288   \n",
       "2  0.247676 -1.514654  0.207643  ...  0.524980  0.247998  0.771679  0.909412   \n",
       "3  0.377436 -1.387024 -0.054952  ... -0.208038 -0.108300  0.005274 -0.190321   \n",
       "4 -0.270533  0.817739  0.753074  ...  0.408542 -0.009431  0.798278 -0.137458   \n",
       "\n",
       "        V24       V25       V26       V27       V28  Class  \n",
       "0  0.066928  0.128539 -0.189115  0.133558 -0.021053      0  \n",
       "1 -0.339846  0.167170  0.125895 -0.008983  0.014724      0  \n",
       "2 -0.689281 -0.327642 -0.139097 -0.055353 -0.059752      0  \n",
       "3 -1.175575  0.647376 -0.221929  0.062723  0.061458      0  \n",
       "4  0.141267 -0.206010  0.502292  0.219422  0.215153      0  \n",
       "\n",
       "[5 rows x 29 columns]"
      ]
     },
     "execution_count": 292,
     "metadata": {},
     "output_type": "execute_result"
    }
   ],
   "source": [
    "## lendo os dados e dropando as colunas desnecessárias\n",
    "df = (\n",
    "    pd.read_csv('data/creditcard.csv')\n",
    "    .drop(['Time','Amount'],axis=1)\n",
    ")\n",
    "\n",
    "## inspecionando o dataset\n",
    "print(df.shape)\n",
    "df.head()"
   ]
  },
  {
   "cell_type": "code",
   "execution_count": 4,
   "id": "05a5e4e5-9acd-474e-8efe-996062ea55ef",
   "metadata": {},
   "outputs": [
    {
     "data": {
      "image/png": "[encoded data removed]",
      "text/plain": [
       "<Figure size 432x288 with 1 Axes>"
      ]
     },
     "metadata": {
      "needs_background": "light"
     },
     "output_type": "display_data"
    }
   ],
   "source": [
    "sns.countplot(df.Class)\n",
    "plt.show()"
   ]
  },
  {
   "cell_type": "code",
   "execution_count": 5,
   "id": "2107c70e-2182-4cef-af04-efc2f3cbf82d",
   "metadata": {},
   "outputs": [
    {
     "data": {
      "text/plain": [
       "0    0.998273\n",
       "1    0.001727\n",
       "Name: Class, dtype: float64"
      ]
     },
     "execution_count": 5,
     "metadata": {},
     "output_type": "execute_result"
    }
   ],
   "source": [
    "df.Class.value_counts(normalize=True)"
   ]
  },
  {
   "cell_type": "code",
   "execution_count": 6,
   "id": "c32b4499-c05b-44ba-9f58-b0ea5b0ce676",
   "metadata": {},
   "outputs": [],
   "source": [
    "## separando em datasets limpos e de fraude\n",
    "clean = df[df.Class == 0]\n",
    "fraud = df[df.Class == 1]\n",
    "\n",
    "## undersmapling do dataset limpo\n",
    "clean_undersampled = clean.sample(int(len(fraud)*15), random_state = RANDOM_SEED)\n",
    "\n",
    "## juntando o dataset undersampled e de fraude\n",
    "data_plot = pd.concat([clean_undersampled,fraud])\n",
    "\n",
    "## coletando o nome das colunas de features\n",
    "columns = list(data_plot.drop('Class',axis=1).columns)\n",
    "\n",
    "## efeturando o tsne\n",
    "features, target = data_plot[columns], data_plot.Class\n",
    "features_embedding = TSNE(n_components=3,random_state=RANDOM_SEED,n_jobs=-1).fit_transform(features)"
   ]
  },
  {
   "cell_type": "code",
   "execution_count": 7,
   "id": "72692bf7-c518-4d89-abb9-f17c9f79ac78",
   "metadata": {},
   "outputs": [
    {
     "data": {
      "text/html": [
       "<iframe\n",
       "    scrolling=\"no\"\n",
       "    width=\"100%\"\n",
       "    height=\"545px\"\n",
       "    src=\"iframe_figures/figure_7.html\"\n",
       "    frameborder=\"0\"\n",
       "    allowfullscreen\n",
       "></iframe>\n"
      ]
     },
     "metadata": {},
     "output_type": "display_data"
    }
   ],
   "source": [
    "fig = px.scatter_3d(x=features_embedding[:,0],\n",
    "                    y=features_embedding[:,1],\n",
    "                    z=features_embedding[:,2],\n",
    "                    color=target)\n",
    "\n",
    "fig.update_traces(marker=dict(size=6,\n",
    "                              opacity=0.6),\n",
    "                  selector=dict(mode='markers'))\n",
    "\n",
    "fig.show(renderer='iframe')"
   ]
  },
  {
   "cell_type": "markdown",
   "id": "9829d7df-67a5-4706-8933-37fe7d39f1af",
   "metadata": {},
   "source": [
    "## Supervisionado - Novelty Detection"
   ]
  },
  {
   "cell_type": "markdown",
   "id": "e31305e9-a053-435f-a94c-a49e659c7861",
   "metadata": {},
   "source": [
    "### Preparando o dataset"
   ]
  },
  {
   "cell_type": "markdown",
   "id": "1d65cd5d-c13c-413a-8e21-cde9994426d6",
   "metadata": {},
   "source": [
    "![](data:image/png;base64,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)"
   ]
  },
  {
   "cell_type": "code",
   "execution_count": 8,
   "id": "d4da6f5b-c8e5-4289-a8d4-6f85910c9b8a",
   "metadata": {
    "tags": []
   },
   "outputs": [
    {
     "name": "stdout",
     "output_type": "stream",
     "text": [
      "Shape dos datasets:\n",
      "    clean       (linhas, colunas) = (284315, 29)\n",
      "    fraud       (linhas, colunas) = (492, 29)\n",
      "    fraud/clean (em %)            = 0.17%\n"
     ]
    }
   ],
   "source": [
    "print(f\"\"\"Shape dos datasets:\n",
    "    clean       (linhas, colunas) = {clean.shape}\n",
    "    fraud       (linhas, colunas) = {fraud.shape}\n",
    "    fraud/clean (em %)            = {round((fraud.shape[0]/clean.shape[0])*100,2)}%\"\"\")"
   ]
  },
  {
   "cell_type": "code",
   "execution_count": 9,
   "id": "ac39fa25-733a-4324-9bec-86339d4be32a",
   "metadata": {},
   "outputs": [
    {
     "data": {
      "text/plain": [
       "0    84315\n",
       "1      492\n",
       "Name: Class, dtype: int64"
      ]
     },
     "execution_count": 9,
     "metadata": {},
     "output_type": "execute_result"
    }
   ],
   "source": [
    "## dados sem fraude para treino\n",
    "\n",
    "x_train = clean.iloc[:TRAINING_SIZE].sample(frac=1)\n",
    "x_test  = clean.iloc[TRAINING_SIZE:].append(fraud).sample(frac=1)\n",
    "\n",
    "x_test.Class.value_counts()"
   ]
  },
  {
   "cell_type": "code",
   "execution_count": 10,
   "id": "ad5e01ec-48be-460c-b131-f7bf90a82a28",
   "metadata": {},
   "outputs": [],
   "source": [
    "## criando dataset de treino e validação\n",
    "x_train, x_val = train_test_split(x_train,\n",
    "                                  test_size=VAL_SIZE,\n",
    "                                  random_state=RANDOM_SEED)\n",
    "\n",
    "## separando x e y de treino e validação\n",
    "x_train, y_train = x_train.drop('Class',axis=1), x_train.Class\n",
    "x_val  , y_val   = x_val.drop('Class',axis=1), x_val.Class\n",
    "\n",
    "## separando x e y de teste\n",
    "x_test, y_test = x_test.drop('Class',axis=1).values, x_test.Class.values"
   ]
  },
  {
   "cell_type": "code",
   "execution_count": 11,
   "id": "ac416fef-bd69-4133-a968-72d266722993",
   "metadata": {
    "tags": []
   },
   "outputs": [
    {
     "name": "stdout",
     "output_type": "stream",
     "text": [
      "Datasets:\n",
      "\n",
      "df                                             : (284807, 29)\n",
      "│ \n",
      "├── treino -> dataset contendo somente dados de transações normais, utilizado para treinamento\n",
      "│       │\n",
      "│       ├── x_train                            : (160000, 28)\n",
      "│       │        └── x_train.non-fraud         : 160000\n",
      "│       │        └── x_train.fraud             : 0\n",
      "│       │        \n",
      "│       └── x_val                              : (40000, 28)\n",
      "│               └── x_val.non-fraud            : 40000\n",
      "│               └── x_val.fraud                : 0\n",
      "│       \n",
      "└── teste  -> dataset contendo uma mistura de transações normais e fraudulentas \n",
      "        │\n",
      "        └── x_test                             : (84807, 28)\n",
      "                └── x_test.non-fraud           : 84315\n",
      "                └── x_test.fraud               : 492\n",
      "\n",
      "\n"
     ]
    }
   ],
   "source": [
    "print(f\"\"\"Datasets:\n",
    "\n",
    "df                                             : {df.shape}\n",
    "│ \n",
    "├── treino -> dataset contendo somente dados de transações normais, utilizado para treinamento\n",
    "│       │\n",
    "│       ├── x_train                            : {x_train.shape}\n",
    "│       │        └── x_train.non-fraud         : {y_train.value_counts()[0]}\n",
    "│       │        └── x_train.fraud             : {0}\n",
    "│       │        \n",
    "│       └── x_val                              : {x_val.shape}\n",
    "│               └── x_val.non-fraud            : {y_val.value_counts()[0]}\n",
    "│               └── x_val.fraud                : {0}\n",
    "│       \n",
    "└── teste  -> dataset contendo uma mistura de transações normais e fraudulentas \n",
    "        │\n",
    "        └── x_test                             : {x_test.shape}\n",
    "                └── x_test.non-fraud           : {pd.Series(y_test).value_counts()[0]}\n",
    "                └── x_test.fraud               : {pd.Series(y_test).value_counts()[1]}\n",
    "\n",
    "\"\"\")"
   ]
  },
  {
   "cell_type": "code",
   "execution_count": 12,
   "id": "937906e6-ca25-48df-94cb-716246592194",
   "metadata": {},
   "outputs": [
    {
     "data": {
      "text/html": [
       "<style>#sk-54efa097-ea8f-4270-be5e-78f98e85aa70 {color: black;background-color: white;}#sk-54efa097-ea8f-4270-be5e-78f98e85aa70 pre{padding: 0;}#sk-54efa097-ea8f-4270-be5e-78f98e85aa70 div.sk-toggleable {background-color: white;}#sk-54efa097-ea8f-4270-be5e-78f98e85aa70 label.sk-toggleable__label {cursor: pointer;display: block;width: 100%;margin-bottom: 0;padding: 0.2em 0.3em;box-sizing: border-box;text-align: center;}#sk-54efa097-ea8f-4270-be5e-78f98e85aa70 div.sk-toggleable__content {max-height: 0;max-width: 0;overflow: hidden;text-align: left;background-color: #f0f8ff;}#sk-54efa097-ea8f-4270-be5e-78f98e85aa70 div.sk-toggleable__content pre {margin: 0.2em;color: black;border-radius: 0.25em;background-color: #f0f8ff;}#sk-54efa097-ea8f-4270-be5e-78f98e85aa70 input.sk-toggleable__control:checked~div.sk-toggleable__content {max-height: 200px;max-width: 100%;overflow: auto;}#sk-54efa097-ea8f-4270-be5e-78f98e85aa70 div.sk-estimator input.sk-toggleable__control:checked~label.sk-toggleable__label {background-color: #d4ebff;}#sk-54efa097-ea8f-4270-be5e-78f98e85aa70 div.sk-label input.sk-toggleable__control:checked~label.sk-toggleable__label {background-color: #d4ebff;}#sk-54efa097-ea8f-4270-be5e-78f98e85aa70 input.sk-hidden--visually {border: 0;clip: rect(1px 1px 1px 1px);clip: rect(1px, 1px, 1px, 1px);height: 1px;margin: -1px;overflow: hidden;padding: 0;position: absolute;width: 1px;}#sk-54efa097-ea8f-4270-be5e-78f98e85aa70 div.sk-estimator {font-family: monospace;background-color: #f0f8ff;margin: 0.25em 0.25em;border: 1px dotted black;border-radius: 0.25em;box-sizing: border-box;}#sk-54efa097-ea8f-4270-be5e-78f98e85aa70 div.sk-estimator:hover {background-color: #d4ebff;}#sk-54efa097-ea8f-4270-be5e-78f98e85aa70 div.sk-parallel-item::after {content: \"\";width: 100%;border-bottom: 1px solid gray;flex-grow: 1;}#sk-54efa097-ea8f-4270-be5e-78f98e85aa70 div.sk-label:hover label.sk-toggleable__label {background-color: #d4ebff;}#sk-54efa097-ea8f-4270-be5e-78f98e85aa70 div.sk-serial::before {content: \"\";position: absolute;border-left: 1px solid gray;box-sizing: border-box;top: 2em;bottom: 0;left: 50%;}#sk-54efa097-ea8f-4270-be5e-78f98e85aa70 div.sk-serial {display: flex;flex-direction: column;align-items: center;background-color: white;}#sk-54efa097-ea8f-4270-be5e-78f98e85aa70 div.sk-item {z-index: 1;}#sk-54efa097-ea8f-4270-be5e-78f98e85aa70 div.sk-parallel {display: flex;align-items: stretch;justify-content: center;background-color: white;}#sk-54efa097-ea8f-4270-be5e-78f98e85aa70 div.sk-parallel-item {display: flex;flex-direction: column;position: relative;background-color: white;}#sk-54efa097-ea8f-4270-be5e-78f98e85aa70 div.sk-parallel-item:first-child::after {align-self: flex-end;width: 50%;}#sk-54efa097-ea8f-4270-be5e-78f98e85aa70 div.sk-parallel-item:last-child::after {align-self: flex-start;width: 50%;}#sk-54efa097-ea8f-4270-be5e-78f98e85aa70 div.sk-parallel-item:only-child::after {width: 0;}#sk-54efa097-ea8f-4270-be5e-78f98e85aa70 div.sk-dashed-wrapped {border: 1px dashed gray;margin: 0.2em;box-sizing: border-box;padding-bottom: 0.1em;background-color: white;position: relative;}#sk-54efa097-ea8f-4270-be5e-78f98e85aa70 div.sk-label label {font-family: monospace;font-weight: bold;background-color: white;display: inline-block;line-height: 1.2em;}#sk-54efa097-ea8f-4270-be5e-78f98e85aa70 div.sk-label-container {position: relative;z-index: 2;text-align: center;}#sk-54efa097-ea8f-4270-be5e-78f98e85aa70 div.sk-container {display: inline-block;position: relative;}</style><div id=\"sk-54efa097-ea8f-4270-be5e-78f98e85aa70\" class\"sk-top-container\"><div class=\"sk-container\"><div class=\"sk-item sk-dashed-wrapped\"><div class=\"sk-label-container\"><div class=\"sk-label sk-toggleable\"><input class=\"sk-toggleable__control sk-hidden--visually\" id=\"57b638cb-d5a5-49f5-8f5a-587475276c9e\" type=\"checkbox\" ><label class=\"sk-toggleable__label\" for=\"57b638cb-d5a5-49f5-8f5a-587475276c9e\">Pipeline</label><div class=\"sk-toggleable__content\"><pre>Pipeline(steps=[('normalizer', Normalizer()), ('minmaxscaler', MinMaxScaler())])</pre></div></div></div><div class=\"sk-serial\"><div class=\"sk-item\"><div class=\"sk-estimator sk-toggleable\"><input class=\"sk-toggleable__control sk-hidden--visually\" id=\"0bba6825-1555-4a68-851f-564de3d9907c\" type=\"checkbox\" ><label class=\"sk-toggleable__label\" for=\"0bba6825-1555-4a68-851f-564de3d9907c\">Normalizer</label><div class=\"sk-toggleable__content\"><pre>Normalizer()</pre></div></div></div><div class=\"sk-item\"><div class=\"sk-estimator sk-toggleable\"><input class=\"sk-toggleable__control sk-hidden--visually\" id=\"e523bb8c-cad0-40fc-8e13-7a8862feb2b6\" type=\"checkbox\" ><label class=\"sk-toggleable__label\" for=\"e523bb8c-cad0-40fc-8e13-7a8862feb2b6\">MinMaxScaler</label><div class=\"sk-toggleable__content\"><pre>MinMaxScaler()</pre></div></div></div></div></div></div></div>"
      ],
      "text/plain": [
       "Pipeline(steps=[('normalizer', Normalizer()), ('minmaxscaler', MinMaxScaler())])"
      ]
     },
     "execution_count": 12,
     "metadata": {},
     "output_type": "execute_result"
    }
   ],
   "source": [
    "## normalizando\n",
    "\n",
    "pipe = make_pipeline(Normalizer(),MinMaxScaler())\n",
    "pipe.fit(x_train)"
   ]
  },
  {
   "cell_type": "code",
   "execution_count": 13,
   "id": "6f55ff34-c005-449c-b52d-8af9e6267402",
   "metadata": {},
   "outputs": [],
   "source": [
    "x_train_scaled = pipe.transform(x_train)\n",
    "x_val_scaled   = pipe.transform(x_val)"
   ]
  },
  {
   "cell_type": "code",
   "execution_count": 14,
   "id": "212fc935-36d2-4085-985c-fa597c95e825",
   "metadata": {
    "tags": []
   },
   "outputs": [
    {
     "data": {
      "image/png": "[encoded data removed]",
      "text/plain": [
       "<Figure size 540x540 with 12 Axes>"
      ]
     },
     "metadata": {
      "needs_background": "light"
     },
     "output_type": "display_data"
    }
   ],
   "source": [
    "g = sns.PairGrid(x_train.iloc[:,:3].sample(600, random_state=RANDOM_SEED))\n",
    "plt.subplots_adjust(top=0.9)\n",
    "g.map_diag(sns.kdeplot)\n",
    "g.map_offdiag(sns.kdeplot);"
   ]
  },
  {
   "cell_type": "code",
   "execution_count": 15,
   "id": "d6284b72-0d3a-4acd-93d5-47c249829e6d",
   "metadata": {
    "tags": []
   },
   "outputs": [
    {
     "data": {
      "image/png": "[encoded data removed]",
      "text/plain": [
       "<Figure size 540x540 with 12 Axes>"
      ]
     },
     "metadata": {
      "needs_background": "light"
     },
     "output_type": "display_data"
    }
   ],
   "source": [
    "g = sns.PairGrid(pd.DataFrame(x_train_scaled,columns=x_train.columns).iloc[:,:3].sample(600, random_state=RANDOM_SEED))\n",
    "plt.subplots_adjust(top=0.9)\n",
    "g.map_diag(sns.kdeplot)\n",
    "g.map_offdiag(sns.kdeplot);"
   ]
  },
  {
   "cell_type": "markdown",
   "id": "ae9d10f6-9e70-41bc-b543-5fce8f166bdc",
   "metadata": {},
   "source": [
    "### Construção do Autoencoder"
   ]
  },
  {
   "cell_type": "code",
   "execution_count": 16,
   "id": "598bb8a1-4a36-46b9-8004-53322aa0d6d7",
   "metadata": {},
   "outputs": [],
   "source": [
    "X_SHAPE = x_train.shape[1]"
   ]
  },
  {
   "cell_type": "code",
   "execution_count": 17,
   "id": "d0a13bca-6cd7-4e7f-9b9b-a57520870052",
   "metadata": {},
   "outputs": [
    {
     "name": "stdout",
     "output_type": "stream",
     "text": [
      "Model: \"sequential\"\n",
      "_________________________________________________________________\n",
      "Layer (type)                 Output Shape              Param #   \n",
      "=================================================================\n",
      "dense (Dense)                (None, 16)                464       \n",
      "_________________________________________________________________\n",
      "dense_1 (Dense)              (None, 8)                 136       \n",
      "_________________________________________________________________\n",
      "dense_2 (Dense)              (None, 4)                 36        \n",
      "_________________________________________________________________\n",
      "VETOR_LATENTE (Dense)        (None, 2)                 10        \n",
      "_________________________________________________________________\n",
      "dense_3 (Dense)              (None, 4)                 12        \n",
      "_________________________________________________________________\n",
      "dense_4 (Dense)              (None, 8)                 40        \n",
      "_________________________________________________________________\n",
      "dense_5 (Dense)              (None, 16)                144       \n",
      "_________________________________________________________________\n",
      "dense_6 (Dense)              (None, 28)                476       \n",
      "=================================================================\n",
      "Total params: 1,318\n",
      "Trainable params: 1,318\n",
      "Non-trainable params: 0\n",
      "_________________________________________________________________\n"
     ]
    }
   ],
   "source": [
    "model = models.Sequential()\n",
    "\n",
    "## encoder\n",
    "model.add(layers.Dense(16,input_dim=X_SHAPE,activation='elu'))\n",
    "model.add(layers.Dense(8,activation='elu'))\n",
    "model.add(layers.Dense(4,activation='elu'))\n",
    "\n",
    "## vetor latente\n",
    "model.add(layers.Dense(2,activation='elu',name='VETOR_LATENTE'))\n",
    "\n",
    "## decoder\n",
    "model.add(layers.Dense(4,activation='elu'))\n",
    "model.add(layers.Dense(8,activation='elu'))\n",
    "model.add(layers.Dense(16,activation='elu'))\n",
    "\n",
    "## output_layer\n",
    "model.add(layers.Dense(X_SHAPE,activation='elu'))\n",
    "\n",
    "model.compile(optimizer='adam', loss='mse')\n",
    "model.summary();"
   ]
  },
  {
   "cell_type": "code",
   "execution_count": 18,
   "id": "512aa7e4-009b-4f39-a415-c5624c2f0a9c",
   "metadata": {},
   "outputs": [],
   "source": [
    "early_stop = callbacks.EarlyStopping(\n",
    "    monitor='val_loss',\n",
    "    min_delta=0.0001,\n",
    "    patience=int(EPOCHS*0.1),\n",
    "    verbose=1, \n",
    "    mode='min',\n",
    "    restore_best_weights=True\n",
    ")"
   ]
  },
  {
   "cell_type": "markdown",
   "id": "1e34fed3-d884-45f8-a460-4b73d812e3c0",
   "metadata": {},
   "source": [
    "### Treinamento do Autoencoder"
   ]
  },
  {
   "cell_type": "code",
   "execution_count": 19,
   "id": "8f7ca559-5f6d-4f6b-9657-13ce9e0c1d10",
   "metadata": {},
   "outputs": [
    {
     "name": "stdout",
     "output_type": "stream",
     "text": [
      "Epoch 1/100\n",
      "313/313 [==============================] - 2s 3ms/step - loss: 0.0490 - val_loss: 0.0177\n",
      "Epoch 2/100\n",
      "313/313 [==============================] - 1s 2ms/step - loss: 0.0176 - val_loss: 0.0175\n",
      "Epoch 3/100\n",
      "313/313 [==============================] - 1s 2ms/step - loss: 0.0170 - val_loss: 0.0165\n",
      "Epoch 4/100\n",
      "313/313 [==============================] - 1s 2ms/step - loss: 0.0160 - val_loss: 0.0156\n",
      "Epoch 5/100\n",
      "313/313 [==============================] - 1s 2ms/step - loss: 0.0154 - val_loss: 0.0152\n",
      "Epoch 6/100\n",
      "313/313 [==============================] - 1s 2ms/step - loss: 0.0151 - val_loss: 0.0150\n",
      "Epoch 7/100\n",
      "313/313 [==============================] - 1s 2ms/step - loss: 0.0149 - val_loss: 0.0148\n",
      "Epoch 8/100\n",
      "313/313 [==============================] - 1s 2ms/step - loss: 0.0148 - val_loss: 0.0147\n",
      "Epoch 9/100\n",
      "313/313 [==============================] - 1s 2ms/step - loss: 0.0147 - val_loss: 0.0146\n",
      "Epoch 10/100\n",
      "313/313 [==============================] - 1s 2ms/step - loss: 0.0146 - val_loss: 0.0145\n",
      "Epoch 11/100\n",
      "313/313 [==============================] - 1s 2ms/step - loss: 0.0145 - val_loss: 0.0144\n",
      "Epoch 12/100\n",
      "313/313 [==============================] - 1s 2ms/step - loss: 0.0144 - val_loss: 0.0143\n",
      "Epoch 13/100\n",
      "313/313 [==============================] - 1s 2ms/step - loss: 0.0144 - val_loss: 0.0143\n",
      "Epoch 14/100\n",
      "313/313 [==============================] - 1s 2ms/step - loss: 0.0143 - val_loss: 0.0143\n",
      "Epoch 15/100\n",
      "313/313 [==============================] - 1s 2ms/step - loss: 0.0143 - val_loss: 0.0143\n",
      "Epoch 16/100\n",
      "313/313 [==============================] - 1s 2ms/step - loss: 0.0143 - val_loss: 0.0143\n",
      "Epoch 17/100\n",
      "313/313 [==============================] - 1s 2ms/step - loss: 0.0143 - val_loss: 0.0142\n",
      "Epoch 18/100\n",
      "313/313 [==============================] - 1s 2ms/step - loss: 0.0143 - val_loss: 0.0142\n",
      "Epoch 19/100\n",
      "313/313 [==============================] - 1s 2ms/step - loss: 0.0142 - val_loss: 0.0141\n",
      "Epoch 20/100\n",
      "313/313 [==============================] - 1s 2ms/step - loss: 0.0140 - val_loss: 0.0137\n",
      "Epoch 21/100\n",
      "313/313 [==============================] - 1s 2ms/step - loss: 0.0137 - val_loss: 0.0136\n",
      "Epoch 22/100\n",
      "313/313 [==============================] - 1s 2ms/step - loss: 0.0136 - val_loss: 0.0135\n",
      "Epoch 23/100\n",
      "313/313 [==============================] - 1s 2ms/step - loss: 0.0135 - val_loss: 0.0135\n",
      "Epoch 24/100\n",
      "313/313 [==============================] - 1s 2ms/step - loss: 0.0135 - val_loss: 0.0134\n",
      "Epoch 25/100\n",
      "313/313 [==============================] - 1s 2ms/step - loss: 0.0134 - val_loss: 0.0133\n",
      "Epoch 26/100\n",
      "313/313 [==============================] - 1s 2ms/step - loss: 0.0132 - val_loss: 0.0132\n",
      "Epoch 27/100\n",
      "313/313 [==============================] - 1s 2ms/step - loss: 0.0131 - val_loss: 0.0131\n",
      "Epoch 28/100\n",
      "313/313 [==============================] - 1s 2ms/step - loss: 0.0130 - val_loss: 0.0130\n",
      "Epoch 29/100\n",
      "313/313 [==============================] - 1s 2ms/step - loss: 0.0130 - val_loss: 0.0129\n",
      "Epoch 30/100\n",
      "313/313 [==============================] - 1s 2ms/step - loss: 0.0129 - val_loss: 0.0129\n",
      "Epoch 31/100\n",
      "313/313 [==============================] - 1s 2ms/step - loss: 0.0128 - val_loss: 0.0128\n",
      "Epoch 32/100\n",
      "313/313 [==============================] - 1s 2ms/step - loss: 0.0127 - val_loss: 0.0126\n",
      "Epoch 33/100\n",
      "313/313 [==============================] - 1s 2ms/step - loss: 0.0126 - val_loss: 0.0125\n",
      "Epoch 34/100\n",
      "313/313 [==============================] - 1s 2ms/step - loss: 0.0125 - val_loss: 0.0125\n",
      "Epoch 35/100\n",
      "313/313 [==============================] - 1s 2ms/step - loss: 0.0125 - val_loss: 0.0124\n",
      "Epoch 36/100\n",
      "313/313 [==============================] - 1s 2ms/step - loss: 0.0124 - val_loss: 0.0124\n",
      "Epoch 37/100\n",
      "313/313 [==============================] - 1s 2ms/step - loss: 0.0124 - val_loss: 0.0124\n",
      "Epoch 38/100\n",
      "313/313 [==============================] - 1s 2ms/step - loss: 0.0124 - val_loss: 0.0123\n",
      "Epoch 39/100\n",
      "313/313 [==============================] - 1s 2ms/step - loss: 0.0124 - val_loss: 0.0123\n",
      "Epoch 40/100\n",
      "313/313 [==============================] - 1s 2ms/step - loss: 0.0123 - val_loss: 0.0123\n",
      "Epoch 41/100\n",
      "313/313 [==============================] - 1s 2ms/step - loss: 0.0123 - val_loss: 0.0123\n",
      "Epoch 42/100\n",
      "313/313 [==============================] - 1s 2ms/step - loss: 0.0123 - val_loss: 0.0123\n",
      "Epoch 43/100\n",
      "313/313 [==============================] - 1s 2ms/step - loss: 0.0123 - val_loss: 0.0123\n",
      "Epoch 44/100\n",
      "313/313 [==============================] - 1s 2ms/step - loss: 0.0123 - val_loss: 0.0123\n",
      "Epoch 45/100\n",
      "313/313 [==============================] - 1s 2ms/step - loss: 0.0122 - val_loss: 0.0122\n",
      "Epoch 46/100\n",
      "313/313 [==============================] - 1s 2ms/step - loss: 0.0122 - val_loss: 0.0122\n",
      "Epoch 47/100\n",
      "313/313 [==============================] - 1s 2ms/step - loss: 0.0122 - val_loss: 0.0122\n",
      "Epoch 48/100\n",
      "313/313 [==============================] - 1s 2ms/step - loss: 0.0122 - val_loss: 0.0121\n",
      "Epoch 49/100\n",
      "313/313 [==============================] - 1s 2ms/step - loss: 0.0121 - val_loss: 0.0121\n",
      "Epoch 50/100\n",
      "313/313 [==============================] - 1s 2ms/step - loss: 0.0121 - val_loss: 0.0121\n",
      "Epoch 51/100\n",
      "313/313 [==============================] - 1s 2ms/step - loss: 0.0121 - val_loss: 0.0121\n",
      "Epoch 52/100\n",
      "313/313 [==============================] - 1s 2ms/step - loss: 0.0120 - val_loss: 0.0120\n",
      "Epoch 53/100\n",
      "313/313 [==============================] - 1s 2ms/step - loss: 0.0120 - val_loss: 0.0119\n",
      "Epoch 54/100\n",
      "313/313 [==============================] - 1s 2ms/step - loss: 0.0119 - val_loss: 0.0119\n",
      "Epoch 55/100\n",
      "313/313 [==============================] - 1s 2ms/step - loss: 0.0119 - val_loss: 0.0119\n",
      "Epoch 56/100\n",
      "313/313 [==============================] - 1s 2ms/step - loss: 0.0119 - val_loss: 0.0118\n",
      "Epoch 57/100\n",
      "313/313 [==============================] - 1s 2ms/step - loss: 0.0118 - val_loss: 0.0118\n",
      "Epoch 58/100\n",
      "313/313 [==============================] - 1s 2ms/step - loss: 0.0118 - val_loss: 0.0117\n",
      "Epoch 59/100\n",
      "313/313 [==============================] - 1s 2ms/step - loss: 0.0118 - val_loss: 0.0117\n",
      "Epoch 60/100\n",
      "313/313 [==============================] - 1s 2ms/step - loss: 0.0117 - val_loss: 0.0117\n",
      "Epoch 61/100\n",
      "313/313 [==============================] - 1s 2ms/step - loss: 0.0117 - val_loss: 0.0117\n",
      "Epoch 62/100\n",
      "313/313 [==============================] - 1s 2ms/step - loss: 0.0117 - val_loss: 0.0116\n",
      "Epoch 63/100\n",
      "313/313 [==============================] - 1s 2ms/step - loss: 0.0117 - val_loss: 0.0116\n",
      "Epoch 64/100\n",
      "313/313 [==============================] - 1s 2ms/step - loss: 0.0117 - val_loss: 0.0116\n",
      "Epoch 65/100\n",
      "313/313 [==============================] - 1s 2ms/step - loss: 0.0116 - val_loss: 0.0116\n",
      "Epoch 66/100\n",
      "313/313 [==============================] - 1s 2ms/step - loss: 0.0116 - val_loss: 0.0116\n",
      "Epoch 67/100\n",
      "313/313 [==============================] - 1s 2ms/step - loss: 0.0116 - val_loss: 0.0115\n",
      "Epoch 68/100\n",
      "313/313 [==============================] - 1s 2ms/step - loss: 0.0116 - val_loss: 0.0115\n",
      "Epoch 69/100\n",
      "313/313 [==============================] - 1s 3ms/step - loss: 0.0116 - val_loss: 0.0115\n",
      "Epoch 70/100\n",
      "313/313 [==============================] - 1s 2ms/step - loss: 0.0115 - val_loss: 0.0115\n",
      "Epoch 71/100\n",
      "313/313 [==============================] - 1s 2ms/step - loss: 0.0115 - val_loss: 0.0114\n",
      "Epoch 72/100\n",
      "313/313 [==============================] - 1s 2ms/step - loss: 0.0114 - val_loss: 0.0114\n",
      "Epoch 73/100\n",
      "313/313 [==============================] - 1s 2ms/step - loss: 0.0114 - val_loss: 0.0113\n",
      "Epoch 74/100\n",
      "313/313 [==============================] - 1s 2ms/step - loss: 0.0113 - val_loss: 0.0112\n",
      "Epoch 75/100\n",
      "313/313 [==============================] - 1s 2ms/step - loss: 0.0112 - val_loss: 0.0112\n",
      "Epoch 76/100\n",
      "313/313 [==============================] - 1s 2ms/step - loss: 0.0112 - val_loss: 0.0111\n",
      "Epoch 77/100\n",
      "313/313 [==============================] - 1s 2ms/step - loss: 0.0111 - val_loss: 0.0111\n",
      "Epoch 78/100\n",
      "313/313 [==============================] - 1s 2ms/step - loss: 0.0111 - val_loss: 0.0111\n",
      "Epoch 79/100\n",
      "313/313 [==============================] - 1s 2ms/step - loss: 0.0111 - val_loss: 0.0111\n",
      "Epoch 80/100\n",
      "313/313 [==============================] - 1s 2ms/step - loss: 0.0111 - val_loss: 0.0111\n",
      "Epoch 81/100\n",
      "313/313 [==============================] - 1s 3ms/step - loss: 0.0111 - val_loss: 0.0111\n",
      "Epoch 82/100\n",
      "313/313 [==============================] - 1s 2ms/step - loss: 0.0111 - val_loss: 0.0110\n",
      "Epoch 83/100\n",
      "313/313 [==============================] - 1s 2ms/step - loss: 0.0110 - val_loss: 0.0110\n",
      "Epoch 84/100\n",
      "313/313 [==============================] - 1s 2ms/step - loss: 0.0110 - val_loss: 0.0110\n",
      "Epoch 85/100\n",
      "313/313 [==============================] - 1s 2ms/step - loss: 0.0110 - val_loss: 0.0110\n",
      "Epoch 86/100\n",
      "313/313 [==============================] - 1s 2ms/step - loss: 0.0110 - val_loss: 0.0110\n",
      "Epoch 87/100\n",
      "313/313 [==============================] - 1s 2ms/step - loss: 0.0110 - val_loss: 0.0110\n",
      "Epoch 88/100\n",
      "313/313 [==============================] - 1s 2ms/step - loss: 0.0110 - val_loss: 0.0110\n",
      "Epoch 89/100\n",
      "313/313 [==============================] - 1s 2ms/step - loss: 0.0110 - val_loss: 0.0110\n",
      "Epoch 90/100\n",
      "313/313 [==============================] - 1s 2ms/step - loss: 0.0110 - val_loss: 0.0110\n",
      "Epoch 91/100\n",
      "313/313 [==============================] - 1s 2ms/step - loss: 0.0110 - val_loss: 0.0109\n",
      "Epoch 92/100\n",
      "313/313 [==============================] - 1s 2ms/step - loss: 0.0110 - val_loss: 0.0110\n",
      "Epoch 93/100\n",
      "313/313 [==============================] - 1s 2ms/step - loss: 0.0110 - val_loss: 0.0109\n",
      "Epoch 94/100\n",
      "313/313 [==============================] - 1s 2ms/step - loss: 0.0110 - val_loss: 0.0109\n",
      "Restoring model weights from the end of the best epoch.\n",
      "Epoch 00094: early stopping\n"
     ]
    }
   ],
   "source": [
    "fitting_data = model.fit(x_train_scaled,\n",
    "                         x_train_scaled,\n",
    "                         epochs=EPOCHS,\n",
    "                         batch_size=BATCH_SIZE,\n",
    "                         callbacks=early_stop,\n",
    "                         validation_data=(x_val_scaled,x_val_scaled),\n",
    "                         verbose=1)"
   ]
  },
  {
   "cell_type": "markdown",
   "id": "26b336bb-86f9-46ad-b1ed-e2b72993a007",
   "metadata": {},
   "source": [
    "### Encontrando Anomalias"
   ]
  },
  {
   "cell_type": "code",
   "execution_count": 20,
   "id": "017d8522-892f-43d0-bc65-c52c188e7bb8",
   "metadata": {},
   "outputs": [],
   "source": [
    "## transformando dados de teste (holdout)\n",
    "x_test_scaled = pipe.transform(x_test)\n",
    "\n",
    "## reconstruindo dados\n",
    "reconstrucao  = model.predict(x_test_scaled)"
   ]
  },
  {
   "cell_type": "code",
   "execution_count": 21,
   "id": "58626e91-7da1-421d-a321-39072cabcd53",
   "metadata": {},
   "outputs": [],
   "source": [
    "## calculando a loss (mse -> anomaly score)\n",
    "\n",
    "anon_score = np.mean(np.power(x_test_scaled - reconstrucao,2),axis=1)"
   ]
  },
  {
   "cell_type": "code",
   "execution_count": 23,
   "id": "05c61c17-e920-48c1-8781-d1b76a846929",
   "metadata": {},
   "outputs": [
    {
     "data": {
      "image/png": "[encoded data removed]",
      "text/plain": [
       "<Figure size 792x432 with 1 Axes>"
      ]
     },
     "metadata": {
      "needs_background": "light"
     },
     "output_type": "display_data"
    }
   ],
   "source": [
    "clean = anon_score[y_test == 0]\n",
    "fraud = anon_score[y_test == 1]\n",
    "\n",
    "fig, ax = plt.subplots(figsize=(11,6))\n",
    "\n",
    "ax.hist(clean, bins=50, density=True, label=\"clean\", alpha=.6, color=\"tab:green\")\n",
    "ax.hist(fraud, bins=50, density=True, label=\"fraud\", alpha=.6, color=\"tab:red\")\n",
    "\n",
    "plt.title(\"Score de Anomalia\")\n",
    "plt.legend()\n",
    "plt.show()"
   ]
  },
  {
   "cell_type": "code",
   "execution_count": 24,
   "id": "819ac819-96d9-4525-bfe5-cd2796baa9f7",
   "metadata": {},
   "outputs": [
    {
     "data": {
      "text/plain": [
       "Text(60.0, 0.5, 'Real')"
      ]
     },
     "execution_count": 24,
     "metadata": {},
     "output_type": "execute_result"
    },
    {
     "data": {
      "image/png": "[encoded data removed]",
      "text/plain": [
       "<Figure size 648x432 with 1 Axes>"
      ]
     },
     "metadata": {
      "needs_background": "light"
     },
     "output_type": "display_data"
    }
   ],
   "source": [
    "conf_arr = confusion_matrix(y_test,pd.Series(anon_score > 0.015).map({True:1,False:0}).values)\n",
    "\n",
    "f ,ax = plt.subplots(1,1,figsize=(9,6))\n",
    "\n",
    "g = sns.heatmap(conf_arr,cmap='Reds',annot=True,fmt='.0f',cbar=False, ax=ax)\n",
    "g.set_xticklabels(['clean','fraud'])\n",
    "g.set_yticklabels(['clean','fraud'])\n",
    "\n",
    "g.set_xlabel('Predito',fontdict={'size':20})\n",
    "g.set_ylabel('Real',fontdict={'size':20})"
   ]
  },
  {
   "cell_type": "code",
   "execution_count": 25,
   "id": "4b01b0fe-33b6-46ec-a9ab-a422b80d99f8",
   "metadata": {},
   "outputs": [],
   "source": [
    "limiares = np.linspace(0.005,0.030,240)\n",
    "\n",
    "ls_clean = []\n",
    "ls_fraud = []\n",
    "\n",
    "for limiar in limiares:\n",
    "    conf_arr = confusion_matrix(y_test,pd.Series(anon_score > limiar).map({True:1,False:0}).values)\n",
    "    erro_clean = conf_arr[0,1] / (conf_arr[0,:].sum())\n",
    "    erro_fraud = conf_arr[1,0] / (conf_arr[1,:].sum())\n",
    "    \n",
    "    ls_clean.append(round(erro_clean,3))\n",
    "    ls_fraud.append(round(erro_fraud,3))"
   ]
  },
  {
   "cell_type": "code",
   "execution_count": 26,
   "id": "7d150c13-22ce-4b1c-8384-2f4f87ab22f6",
   "metadata": {
    "tags": []
   },
   "outputs": [
    {
     "data": {
      "image/png": "[encoded data removed]",
      "text/plain": [
       "<Figure size 432x288 with 1 Axes>"
      ]
     },
     "metadata": {
      "needs_background": "light"
     },
     "output_type": "display_data"
    }
   ],
   "source": [
    "f, ax1 = plt.subplots()\n",
    "\n",
    "ax1.plot(limiares,ls_clean,label = 'erro clean')\n",
    "ax1.plot(limiares,ls_fraud,label = 'erro fraud')\n",
    "ax1.legend(loc=1)\n",
    "\n",
    "plt.show()"
   ]
  },
  {
   "cell_type": "code",
   "execution_count": 350,
   "id": "461eae55-3cb5-4d2f-a33f-3e74385ecbce",
   "metadata": {
    "collapsed": true,
    "jupyter": {
     "outputs_hidden": true,
     "source_hidden": true
    },
    "tags": []
   },
   "outputs": [
    {
     "name": "stderr",
     "output_type": "stream",
     "text": [
      "100%|█████████████████████████████████████████| 240/240 [01:48<00:00,  2.21it/s]\n"
     ]
    },
    {
     "data": {
      "text/plain": [
       "<Figure size 432x288 with 0 Axes>"
      ]
     },
     "metadata": {},
     "output_type": "display_data"
    },
    {
     "data": {
      "text/plain": [
       "<Figure size 432x288 with 0 Axes>"
      ]
     },
     "metadata": {},
     "output_type": "display_data"
    },
    {
     "data": {
      "text/plain": [
       "<Figure size 432x288 with 0 Axes>"
      ]
     },
     "metadata": {},
     "output_type": "display_data"
    },
    {
     "data": {
      "text/plain": [
       "<Figure size 432x288 with 0 Axes>"
      ]
     },
     "metadata": {},
     "output_type": "display_data"
    },
    {
     "data": {
      "text/plain": [
       "<Figure size 432x288 with 0 Axes>"
      ]
     },
     "metadata": {},
     "output_type": "display_data"
    },
    {
     "data": {
      "text/plain": [
       "<Figure size 432x288 with 0 Axes>"
      ]
     },
     "metadata": {},
     "output_type": "display_data"
    },
    {
     "data": {
      "text/plain": [
       "<Figure size 432x288 with 0 Axes>"
      ]
     },
     "metadata": {},
     "output_type": "display_data"
    },
    {
     "data": {
      "text/plain": [
       "<Figure size 432x288 with 0 Axes>"
      ]
     },
     "metadata": {},
     "output_type": "display_data"
    },
    {
     "data": {
      "text/plain": [
       "<Figure size 432x288 with 0 Axes>"
      ]
     },
     "metadata": {},
     "output_type": "display_data"
    },
    {
     "data": {
      "text/plain": [
       "<Figure size 432x288 with 0 Axes>"
      ]
     },
     "metadata": {},
     "output_type": "display_data"
    },
    {
     "data": {
      "text/plain": [
       "<Figure size 432x288 with 0 Axes>"
      ]
     },
     "metadata": {},
     "output_type": "display_data"
    },
    {
     "data": {
      "text/plain": [
       "<Figure size 432x288 with 0 Axes>"
      ]
     },
     "metadata": {},
     "output_type": "display_data"
    },
    {
     "data": {
      "text/plain": [
       "<Figure size 432x288 with 0 Axes>"
      ]
     },
     "metadata": {},
     "output_type": "display_data"
    },
    {
     "data": {
      "text/plain": [
       "<Figure size 432x288 with 0 Axes>"
      ]
     },
     "metadata": {},
     "output_type": "display_data"
    },
    {
     "data": {
      "text/plain": [
       "<Figure size 432x288 with 0 Axes>"
      ]
     },
     "metadata": {},
     "output_type": "display_data"
    },
    {
     "data": {
      "text/plain": [
       "<Figure size 432x288 with 0 Axes>"
      ]
     },
     "metadata": {},
     "output_type": "display_data"
    },
    {
     "data": {
      "text/plain": [
       "<Figure size 432x288 with 0 Axes>"
      ]
     },
     "metadata": {},
     "output_type": "display_data"
    },
    {
     "data": {
      "text/plain": [
       "<Figure size 432x288 with 0 Axes>"
      ]
     },
     "metadata": {},
     "output_type": "display_data"
    },
    {
     "data": {
      "text/plain": [
       "<Figure size 432x288 with 0 Axes>"
      ]
     },
     "metadata": {},
     "output_type": "display_data"
    },
    {
     "data": {
      "text/plain": [
       "<Figure size 432x288 with 0 Axes>"
      ]
     },
     "metadata": {},
     "output_type": "display_data"
    },
    {
     "data": {
      "text/plain": [
       "<Figure size 432x288 with 0 Axes>"
      ]
     },
     "metadata": {},
     "output_type": "display_data"
    },
    {
     "data": {
      "text/plain": [
       "<Figure size 432x288 with 0 Axes>"
      ]
     },
     "metadata": {},
     "output_type": "display_data"
    },
    {
     "data": {
      "text/plain": [
       "<Figure size 432x288 with 0 Axes>"
      ]
     },
     "metadata": {},
     "output_type": "display_data"
    },
    {
     "data": {
      "text/plain": [
       "<Figure size 432x288 with 0 Axes>"
      ]
     },
     "metadata": {},
     "output_type": "display_data"
    },
    {
     "data": {
      "text/plain": [
       "<Figure size 432x288 with 0 Axes>"
      ]
     },
     "metadata": {},
     "output_type": "display_data"
    },
    {
     "data": {
      "text/plain": [
       "<Figure size 432x288 with 0 Axes>"
      ]
     },
     "metadata": {},
     "output_type": "display_data"
    },
    {
     "data": {
      "text/plain": [
       "<Figure size 432x288 with 0 Axes>"
      ]
     },
     "metadata": {},
     "output_type": "display_data"
    },
    {
     "data": {
      "text/plain": [
       "<Figure size 432x288 with 0 Axes>"
      ]
     },
     "metadata": {},
     "output_type": "display_data"
    },
    {
     "data": {
      "text/plain": [
       "<Figure size 432x288 with 0 Axes>"
      ]
     },
     "metadata": {},
     "output_type": "display_data"
    },
    {
     "data": {
      "text/plain": [
       "<Figure size 432x288 with 0 Axes>"
      ]
     },
     "metadata": {},
     "output_type": "display_data"
    },
    {
     "data": {
      "text/plain": [
       "<Figure size 432x288 with 0 Axes>"
      ]
     },
     "metadata": {},
     "output_type": "display_data"
    },
    {
     "data": {
      "text/plain": [
       "<Figure size 432x288 with 0 Axes>"
      ]
     },
     "metadata": {},
     "output_type": "display_data"
    },
    {
     "data": {
      "text/plain": [
       "<Figure size 432x288 with 0 Axes>"
      ]
     },
     "metadata": {},
     "output_type": "display_data"
    },
    {
     "data": {
      "text/plain": [
       "<Figure size 432x288 with 0 Axes>"
      ]
     },
     "metadata": {},
     "output_type": "display_data"
    },
    {
     "data": {
      "text/plain": [
       "<Figure size 432x288 with 0 Axes>"
      ]
     },
     "metadata": {},
     "output_type": "display_data"
    },
    {
     "data": {
      "text/plain": [
       "<Figure size 432x288 with 0 Axes>"
      ]
     },
     "metadata": {},
     "output_type": "display_data"
    },
    {
     "data": {
      "text/plain": [
       "<Figure size 432x288 with 0 Axes>"
      ]
     },
     "metadata": {},
     "output_type": "display_data"
    },
    {
     "data": {
      "text/plain": [
       "<Figure size 432x288 with 0 Axes>"
      ]
     },
     "metadata": {},
     "output_type": "display_data"
    },
    {
     "data": {
      "text/plain": [
       "<Figure size 432x288 with 0 Axes>"
      ]
     },
     "metadata": {},
     "output_type": "display_data"
    },
    {
     "data": {
      "text/plain": [
       "<Figure size 432x288 with 0 Axes>"
      ]
     },
     "metadata": {},
     "output_type": "display_data"
    },
    {
     "data": {
      "text/plain": [
       "<Figure size 432x288 with 0 Axes>"
      ]
     },
     "metadata": {},
     "output_type": "display_data"
    },
    {
     "data": {
      "text/plain": [
       "<Figure size 432x288 with 0 Axes>"
      ]
     },
     "metadata": {},
     "output_type": "display_data"
    },
    {
     "data": {
      "text/plain": [
       "<Figure size 432x288 with 0 Axes>"
      ]
     },
     "metadata": {},
     "output_type": "display_data"
    },
    {
     "data": {
      "text/plain": [
       "<Figure size 432x288 with 0 Axes>"
      ]
     },
     "metadata": {},
     "output_type": "display_data"
    },
    {
     "data": {
      "text/plain": [
       "<Figure size 432x288 with 0 Axes>"
      ]
     },
     "metadata": {},
     "output_type": "display_data"
    },
    {
     "data": {
      "text/plain": [
       "<Figure size 432x288 with 0 Axes>"
      ]
     },
     "metadata": {},
     "output_type": "display_data"
    },
    {
     "data": {
      "text/plain": [
       "<Figure size 432x288 with 0 Axes>"
      ]
     },
     "metadata": {},
     "output_type": "display_data"
    },
    {
     "data": {
      "text/plain": [
       "<Figure size 432x288 with 0 Axes>"
      ]
     },
     "metadata": {},
     "output_type": "display_data"
    },
    {
     "data": {
      "text/plain": [
       "<Figure size 432x288 with 0 Axes>"
      ]
     },
     "metadata": {},
     "output_type": "display_data"
    },
    {
     "data": {
      "text/plain": [
       "<Figure size 432x288 with 0 Axes>"
      ]
     },
     "metadata": {},
     "output_type": "display_data"
    },
    {
     "data": {
      "text/plain": [
       "<Figure size 432x288 with 0 Axes>"
      ]
     },
     "metadata": {},
     "output_type": "display_data"
    },
    {
     "data": {
      "text/plain": [
       "<Figure size 432x288 with 0 Axes>"
      ]
     },
     "metadata": {},
     "output_type": "display_data"
    },
    {
     "data": {
      "text/plain": [
       "<Figure size 432x288 with 0 Axes>"
      ]
     },
     "metadata": {},
     "output_type": "display_data"
    },
    {
     "data": {
      "text/plain": [
       "<Figure size 432x288 with 0 Axes>"
      ]
     },
     "metadata": {},
     "output_type": "display_data"
    },
    {
     "data": {
      "text/plain": [
       "<Figure size 432x288 with 0 Axes>"
      ]
     },
     "metadata": {},
     "output_type": "display_data"
    },
    {
     "data": {
      "text/plain": [
       "<Figure size 432x288 with 0 Axes>"
      ]
     },
     "metadata": {},
     "output_type": "display_data"
    },
    {
     "data": {
      "text/plain": [
       "<Figure size 432x288 with 0 Axes>"
      ]
     },
     "metadata": {},
     "output_type": "display_data"
    },
    {
     "data": {
      "text/plain": [
       "<Figure size 432x288 with 0 Axes>"
      ]
     },
     "metadata": {},
     "output_type": "display_data"
    },
    {
     "data": {
      "text/plain": [
       "<Figure size 432x288 with 0 Axes>"
      ]
     },
     "metadata": {},
     "output_type": "display_data"
    },
    {
     "data": {
      "text/plain": [
       "<Figure size 432x288 with 0 Axes>"
      ]
     },
     "metadata": {},
     "output_type": "display_data"
    },
    {
     "data": {
      "text/plain": [
       "<Figure size 432x288 with 0 Axes>"
      ]
     },
     "metadata": {},
     "output_type": "display_data"
    },
    {
     "data": {
      "text/plain": [
       "<Figure size 432x288 with 0 Axes>"
      ]
     },
     "metadata": {},
     "output_type": "display_data"
    },
    {
     "data": {
      "text/plain": [
       "<Figure size 432x288 with 0 Axes>"
      ]
     },
     "metadata": {},
     "output_type": "display_data"
    },
    {
     "data": {
      "text/plain": [
       "<Figure size 432x288 with 0 Axes>"
      ]
     },
     "metadata": {},
     "output_type": "display_data"
    },
    {
     "data": {
      "text/plain": [
       "<Figure size 432x288 with 0 Axes>"
      ]
     },
     "metadata": {},
     "output_type": "display_data"
    },
    {
     "data": {
      "text/plain": [
       "<Figure size 432x288 with 0 Axes>"
      ]
     },
     "metadata": {},
     "output_type": "display_data"
    },
    {
     "data": {
      "text/plain": [
       "<Figure size 432x288 with 0 Axes>"
      ]
     },
     "metadata": {},
     "output_type": "display_data"
    },
    {
     "data": {
      "text/plain": [
       "<Figure size 432x288 with 0 Axes>"
      ]
     },
     "metadata": {},
     "output_type": "display_data"
    },
    {
     "data": {
      "text/plain": [
       "<Figure size 432x288 with 0 Axes>"
      ]
     },
     "metadata": {},
     "output_type": "display_data"
    },
    {
     "data": {
      "text/plain": [
       "<Figure size 432x288 with 0 Axes>"
      ]
     },
     "metadata": {},
     "output_type": "display_data"
    },
    {
     "data": {
      "text/plain": [
       "<Figure size 432x288 with 0 Axes>"
      ]
     },
     "metadata": {},
     "output_type": "display_data"
    },
    {
     "data": {
      "text/plain": [
       "<Figure size 432x288 with 0 Axes>"
      ]
     },
     "metadata": {},
     "output_type": "display_data"
    },
    {
     "data": {
      "text/plain": [
       "<Figure size 432x288 with 0 Axes>"
      ]
     },
     "metadata": {},
     "output_type": "display_data"
    },
    {
     "data": {
      "text/plain": [
       "<Figure size 432x288 with 0 Axes>"
      ]
     },
     "metadata": {},
     "output_type": "display_data"
    },
    {
     "data": {
      "text/plain": [
       "<Figure size 432x288 with 0 Axes>"
      ]
     },
     "metadata": {},
     "output_type": "display_data"
    },
    {
     "data": {
      "text/plain": [
       "<Figure size 432x288 with 0 Axes>"
      ]
     },
     "metadata": {},
     "output_type": "display_data"
    },
    {
     "data": {
      "text/plain": [
       "<Figure size 432x288 with 0 Axes>"
      ]
     },
     "metadata": {},
     "output_type": "display_data"
    },
    {
     "data": {
      "text/plain": [
       "<Figure size 432x288 with 0 Axes>"
      ]
     },
     "metadata": {},
     "output_type": "display_data"
    },
    {
     "data": {
      "text/plain": [
       "<Figure size 432x288 with 0 Axes>"
      ]
     },
     "metadata": {},
     "output_type": "display_data"
    },
    {
     "data": {
      "text/plain": [
       "<Figure size 432x288 with 0 Axes>"
      ]
     },
     "metadata": {},
     "output_type": "display_data"
    },
    {
     "data": {
      "text/plain": [
       "<Figure size 432x288 with 0 Axes>"
      ]
     },
     "metadata": {},
     "output_type": "display_data"
    },
    {
     "data": {
      "text/plain": [
       "<Figure size 432x288 with 0 Axes>"
      ]
     },
     "metadata": {},
     "output_type": "display_data"
    },
    {
     "data": {
      "text/plain": [
       "<Figure size 432x288 with 0 Axes>"
      ]
     },
     "metadata": {},
     "output_type": "display_data"
    },
    {
     "data": {
      "text/plain": [
       "<Figure size 432x288 with 0 Axes>"
      ]
     },
     "metadata": {},
     "output_type": "display_data"
    },
    {
     "data": {
      "text/plain": [
       "<Figure size 432x288 with 0 Axes>"
      ]
     },
     "metadata": {},
     "output_type": "display_data"
    },
    {
     "data": {
      "text/plain": [
       "<Figure size 432x288 with 0 Axes>"
      ]
     },
     "metadata": {},
     "output_type": "display_data"
    },
    {
     "data": {
      "text/plain": [
       "<Figure size 432x288 with 0 Axes>"
      ]
     },
     "metadata": {},
     "output_type": "display_data"
    },
    {
     "data": {
      "text/plain": [
       "<Figure size 432x288 with 0 Axes>"
      ]
     },
     "metadata": {},
     "output_type": "display_data"
    },
    {
     "data": {
      "text/plain": [
       "<Figure size 432x288 with 0 Axes>"
      ]
     },
     "metadata": {},
     "output_type": "display_data"
    },
    {
     "data": {
      "text/plain": [
       "<Figure size 432x288 with 0 Axes>"
      ]
     },
     "metadata": {},
     "output_type": "display_data"
    },
    {
     "data": {
      "text/plain": [
       "<Figure size 432x288 with 0 Axes>"
      ]
     },
     "metadata": {},
     "output_type": "display_data"
    },
    {
     "data": {
      "text/plain": [
       "<Figure size 432x288 with 0 Axes>"
      ]
     },
     "metadata": {},
     "output_type": "display_data"
    },
    {
     "data": {
      "text/plain": [
       "<Figure size 432x288 with 0 Axes>"
      ]
     },
     "metadata": {},
     "output_type": "display_data"
    },
    {
     "data": {
      "text/plain": [
       "<Figure size 432x288 with 0 Axes>"
      ]
     },
     "metadata": {},
     "output_type": "display_data"
    },
    {
     "data": {
      "text/plain": [
       "<Figure size 432x288 with 0 Axes>"
      ]
     },
     "metadata": {},
     "output_type": "display_data"
    },
    {
     "data": {
      "text/plain": [
       "<Figure size 432x288 with 0 Axes>"
      ]
     },
     "metadata": {},
     "output_type": "display_data"
    },
    {
     "data": {
      "text/plain": [
       "<Figure size 432x288 with 0 Axes>"
      ]
     },
     "metadata": {},
     "output_type": "display_data"
    },
    {
     "data": {
      "text/plain": [
       "<Figure size 432x288 with 0 Axes>"
      ]
     },
     "metadata": {},
     "output_type": "display_data"
    },
    {
     "data": {
      "text/plain": [
       "<Figure size 432x288 with 0 Axes>"
      ]
     },
     "metadata": {},
     "output_type": "display_data"
    },
    {
     "data": {
      "text/plain": [
       "<Figure size 432x288 with 0 Axes>"
      ]
     },
     "metadata": {},
     "output_type": "display_data"
    },
    {
     "data": {
      "text/plain": [
       "<Figure size 432x288 with 0 Axes>"
      ]
     },
     "metadata": {},
     "output_type": "display_data"
    },
    {
     "data": {
      "text/plain": [
       "<Figure size 432x288 with 0 Axes>"
      ]
     },
     "metadata": {},
     "output_type": "display_data"
    },
    {
     "data": {
      "text/plain": [
       "<Figure size 432x288 with 0 Axes>"
      ]
     },
     "metadata": {},
     "output_type": "display_data"
    },
    {
     "data": {
      "text/plain": [
       "<Figure size 432x288 with 0 Axes>"
      ]
     },
     "metadata": {},
     "output_type": "display_data"
    },
    {
     "data": {
      "text/plain": [
       "<Figure size 432x288 with 0 Axes>"
      ]
     },
     "metadata": {},
     "output_type": "display_data"
    },
    {
     "data": {
      "text/plain": [
       "<Figure size 432x288 with 0 Axes>"
      ]
     },
     "metadata": {},
     "output_type": "display_data"
    },
    {
     "data": {
      "text/plain": [
       "<Figure size 432x288 with 0 Axes>"
      ]
     },
     "metadata": {},
     "output_type": "display_data"
    },
    {
     "data": {
      "text/plain": [
       "<Figure size 432x288 with 0 Axes>"
      ]
     },
     "metadata": {},
     "output_type": "display_data"
    },
    {
     "data": {
      "text/plain": [
       "<Figure size 432x288 with 0 Axes>"
      ]
     },
     "metadata": {},
     "output_type": "display_data"
    },
    {
     "data": {
      "text/plain": [
       "<Figure size 432x288 with 0 Axes>"
      ]
     },
     "metadata": {},
     "output_type": "display_data"
    },
    {
     "data": {
      "text/plain": [
       "<Figure size 432x288 with 0 Axes>"
      ]
     },
     "metadata": {},
     "output_type": "display_data"
    },
    {
     "data": {
      "text/plain": [
       "<Figure size 432x288 with 0 Axes>"
      ]
     },
     "metadata": {},
     "output_type": "display_data"
    },
    {
     "data": {
      "text/plain": [
       "<Figure size 432x288 with 0 Axes>"
      ]
     },
     "metadata": {},
     "output_type": "display_data"
    },
    {
     "data": {
      "text/plain": [
       "<Figure size 432x288 with 0 Axes>"
      ]
     },
     "metadata": {},
     "output_type": "display_data"
    },
    {
     "data": {
      "text/plain": [
       "<Figure size 432x288 with 0 Axes>"
      ]
     },
     "metadata": {},
     "output_type": "display_data"
    },
    {
     "data": {
      "text/plain": [
       "<Figure size 432x288 with 0 Axes>"
      ]
     },
     "metadata": {},
     "output_type": "display_data"
    },
    {
     "data": {
      "text/plain": [
       "<Figure size 432x288 with 0 Axes>"
      ]
     },
     "metadata": {},
     "output_type": "display_data"
    },
    {
     "data": {
      "text/plain": [
       "<Figure size 432x288 with 0 Axes>"
      ]
     },
     "metadata": {},
     "output_type": "display_data"
    },
    {
     "data": {
      "text/plain": [
       "<Figure size 432x288 with 0 Axes>"
      ]
     },
     "metadata": {},
     "output_type": "display_data"
    },
    {
     "data": {
      "text/plain": [
       "<Figure size 432x288 with 0 Axes>"
      ]
     },
     "metadata": {},
     "output_type": "display_data"
    },
    {
     "data": {
      "text/plain": [
       "<Figure size 432x288 with 0 Axes>"
      ]
     },
     "metadata": {},
     "output_type": "display_data"
    },
    {
     "data": {
      "text/plain": [
       "<Figure size 432x288 with 0 Axes>"
      ]
     },
     "metadata": {},
     "output_type": "display_data"
    },
    {
     "data": {
      "text/plain": [
       "<Figure size 432x288 with 0 Axes>"
      ]
     },
     "metadata": {},
     "output_type": "display_data"
    },
    {
     "data": {
      "text/plain": [
       "<Figure size 432x288 with 0 Axes>"
      ]
     },
     "metadata": {},
     "output_type": "display_data"
    },
    {
     "data": {
      "text/plain": [
       "<Figure size 432x288 with 0 Axes>"
      ]
     },
     "metadata": {},
     "output_type": "display_data"
    },
    {
     "data": {
      "text/plain": [
       "<Figure size 432x288 with 0 Axes>"
      ]
     },
     "metadata": {},
     "output_type": "display_data"
    },
    {
     "data": {
      "text/plain": [
       "<Figure size 432x288 with 0 Axes>"
      ]
     },
     "metadata": {},
     "output_type": "display_data"
    },
    {
     "data": {
      "text/plain": [
       "<Figure size 432x288 with 0 Axes>"
      ]
     },
     "metadata": {},
     "output_type": "display_data"
    },
    {
     "data": {
      "text/plain": [
       "<Figure size 432x288 with 0 Axes>"
      ]
     },
     "metadata": {},
     "output_type": "display_data"
    },
    {
     "data": {
      "text/plain": [
       "<Figure size 432x288 with 0 Axes>"
      ]
     },
     "metadata": {},
     "output_type": "display_data"
    },
    {
     "data": {
      "text/plain": [
       "<Figure size 432x288 with 0 Axes>"
      ]
     },
     "metadata": {},
     "output_type": "display_data"
    },
    {
     "data": {
      "text/plain": [
       "<Figure size 432x288 with 0 Axes>"
      ]
     },
     "metadata": {},
     "output_type": "display_data"
    },
    {
     "data": {
      "text/plain": [
       "<Figure size 432x288 with 0 Axes>"
      ]
     },
     "metadata": {},
     "output_type": "display_data"
    },
    {
     "data": {
      "text/plain": [
       "<Figure size 432x288 with 0 Axes>"
      ]
     },
     "metadata": {},
     "output_type": "display_data"
    },
    {
     "data": {
      "text/plain": [
       "<Figure size 432x288 with 0 Axes>"
      ]
     },
     "metadata": {},
     "output_type": "display_data"
    },
    {
     "data": {
      "text/plain": [
       "<Figure size 432x288 with 0 Axes>"
      ]
     },
     "metadata": {},
     "output_type": "display_data"
    },
    {
     "data": {
      "text/plain": [
       "<Figure size 432x288 with 0 Axes>"
      ]
     },
     "metadata": {},
     "output_type": "display_data"
    },
    {
     "data": {
      "text/plain": [
       "<Figure size 432x288 with 0 Axes>"
      ]
     },
     "metadata": {},
     "output_type": "display_data"
    },
    {
     "data": {
      "text/plain": [
       "<Figure size 432x288 with 0 Axes>"
      ]
     },
     "metadata": {},
     "output_type": "display_data"
    },
    {
     "data": {
      "text/plain": [
       "<Figure size 432x288 with 0 Axes>"
      ]
     },
     "metadata": {},
     "output_type": "display_data"
    },
    {
     "data": {
      "text/plain": [
       "<Figure size 432x288 with 0 Axes>"
      ]
     },
     "metadata": {},
     "output_type": "display_data"
    },
    {
     "data": {
      "text/plain": [
       "<Figure size 432x288 with 0 Axes>"
      ]
     },
     "metadata": {},
     "output_type": "display_data"
    },
    {
     "data": {
      "text/plain": [
       "<Figure size 432x288 with 0 Axes>"
      ]
     },
     "metadata": {},
     "output_type": "display_data"
    },
    {
     "data": {
      "text/plain": [
       "<Figure size 432x288 with 0 Axes>"
      ]
     },
     "metadata": {},
     "output_type": "display_data"
    },
    {
     "data": {
      "text/plain": [
       "<Figure size 432x288 with 0 Axes>"
      ]
     },
     "metadata": {},
     "output_type": "display_data"
    },
    {
     "data": {
      "text/plain": [
       "<Figure size 432x288 with 0 Axes>"
      ]
     },
     "metadata": {},
     "output_type": "display_data"
    },
    {
     "data": {
      "text/plain": [
       "<Figure size 432x288 with 0 Axes>"
      ]
     },
     "metadata": {},
     "output_type": "display_data"
    },
    {
     "data": {
      "text/plain": [
       "<Figure size 432x288 with 0 Axes>"
      ]
     },
     "metadata": {},
     "output_type": "display_data"
    },
    {
     "data": {
      "text/plain": [
       "<Figure size 432x288 with 0 Axes>"
      ]
     },
     "metadata": {},
     "output_type": "display_data"
    },
    {
     "data": {
      "text/plain": [
       "<Figure size 432x288 with 0 Axes>"
      ]
     },
     "metadata": {},
     "output_type": "display_data"
    },
    {
     "data": {
      "text/plain": [
       "<Figure size 432x288 with 0 Axes>"
      ]
     },
     "metadata": {},
     "output_type": "display_data"
    },
    {
     "data": {
      "text/plain": [
       "<Figure size 432x288 with 0 Axes>"
      ]
     },
     "metadata": {},
     "output_type": "display_data"
    },
    {
     "data": {
      "text/plain": [
       "<Figure size 432x288 with 0 Axes>"
      ]
     },
     "metadata": {},
     "output_type": "display_data"
    },
    {
     "data": {
      "text/plain": [
       "<Figure size 432x288 with 0 Axes>"
      ]
     },
     "metadata": {},
     "output_type": "display_data"
    },
    {
     "data": {
      "text/plain": [
       "<Figure size 432x288 with 0 Axes>"
      ]
     },
     "metadata": {},
     "output_type": "display_data"
    },
    {
     "data": {
      "text/plain": [
       "<Figure size 432x288 with 0 Axes>"
      ]
     },
     "metadata": {},
     "output_type": "display_data"
    },
    {
     "data": {
      "text/plain": [
       "<Figure size 432x288 with 0 Axes>"
      ]
     },
     "metadata": {},
     "output_type": "display_data"
    },
    {
     "data": {
      "text/plain": [
       "<Figure size 432x288 with 0 Axes>"
      ]
     },
     "metadata": {},
     "output_type": "display_data"
    },
    {
     "data": {
      "text/plain": [
       "<Figure size 432x288 with 0 Axes>"
      ]
     },
     "metadata": {},
     "output_type": "display_data"
    },
    {
     "data": {
      "text/plain": [
       "<Figure size 432x288 with 0 Axes>"
      ]
     },
     "metadata": {},
     "output_type": "display_data"
    },
    {
     "data": {
      "text/plain": [
       "<Figure size 432x288 with 0 Axes>"
      ]
     },
     "metadata": {},
     "output_type": "display_data"
    },
    {
     "data": {
      "text/plain": [
       "<Figure size 432x288 with 0 Axes>"
      ]
     },
     "metadata": {},
     "output_type": "display_data"
    },
    {
     "data": {
      "text/plain": [
       "<Figure size 432x288 with 0 Axes>"
      ]
     },
     "metadata": {},
     "output_type": "display_data"
    },
    {
     "data": {
      "text/plain": [
       "<Figure size 432x288 with 0 Axes>"
      ]
     },
     "metadata": {},
     "output_type": "display_data"
    },
    {
     "data": {
      "text/plain": [
       "<Figure size 432x288 with 0 Axes>"
      ]
     },
     "metadata": {},
     "output_type": "display_data"
    },
    {
     "data": {
      "text/plain": [
       "<Figure size 432x288 with 0 Axes>"
      ]
     },
     "metadata": {},
     "output_type": "display_data"
    },
    {
     "data": {
      "text/plain": [
       "<Figure size 432x288 with 0 Axes>"
      ]
     },
     "metadata": {},
     "output_type": "display_data"
    },
    {
     "data": {
      "text/plain": [
       "<Figure size 432x288 with 0 Axes>"
      ]
     },
     "metadata": {},
     "output_type": "display_data"
    },
    {
     "data": {
      "text/plain": [
       "<Figure size 432x288 with 0 Axes>"
      ]
     },
     "metadata": {},
     "output_type": "display_data"
    },
    {
     "data": {
      "text/plain": [
       "<Figure size 432x288 with 0 Axes>"
      ]
     },
     "metadata": {},
     "output_type": "display_data"
    },
    {
     "data": {
      "text/plain": [
       "<Figure size 432x288 with 0 Axes>"
      ]
     },
     "metadata": {},
     "output_type": "display_data"
    },
    {
     "data": {
      "text/plain": [
       "<Figure size 432x288 with 0 Axes>"
      ]
     },
     "metadata": {},
     "output_type": "display_data"
    },
    {
     "data": {
      "text/plain": [
       "<Figure size 432x288 with 0 Axes>"
      ]
     },
     "metadata": {},
     "output_type": "display_data"
    },
    {
     "data": {
      "text/plain": [
       "<Figure size 432x288 with 0 Axes>"
      ]
     },
     "metadata": {},
     "output_type": "display_data"
    },
    {
     "data": {
      "text/plain": [
       "<Figure size 432x288 with 0 Axes>"
      ]
     },
     "metadata": {},
     "output_type": "display_data"
    },
    {
     "data": {
      "text/plain": [
       "<Figure size 432x288 with 0 Axes>"
      ]
     },
     "metadata": {},
     "output_type": "display_data"
    },
    {
     "data": {
      "text/plain": [
       "<Figure size 432x288 with 0 Axes>"
      ]
     },
     "metadata": {},
     "output_type": "display_data"
    },
    {
     "data": {
      "text/plain": [
       "<Figure size 432x288 with 0 Axes>"
      ]
     },
     "metadata": {},
     "output_type": "display_data"
    },
    {
     "data": {
      "text/plain": [
       "<Figure size 432x288 with 0 Axes>"
      ]
     },
     "metadata": {},
     "output_type": "display_data"
    },
    {
     "data": {
      "text/plain": [
       "<Figure size 432x288 with 0 Axes>"
      ]
     },
     "metadata": {},
     "output_type": "display_data"
    },
    {
     "data": {
      "text/plain": [
       "<Figure size 432x288 with 0 Axes>"
      ]
     },
     "metadata": {},
     "output_type": "display_data"
    },
    {
     "data": {
      "text/plain": [
       "<Figure size 432x288 with 0 Axes>"
      ]
     },
     "metadata": {},
     "output_type": "display_data"
    },
    {
     "data": {
      "text/plain": [
       "<Figure size 432x288 with 0 Axes>"
      ]
     },
     "metadata": {},
     "output_type": "display_data"
    },
    {
     "data": {
      "text/plain": [
       "<Figure size 432x288 with 0 Axes>"
      ]
     },
     "metadata": {},
     "output_type": "display_data"
    },
    {
     "data": {
      "text/plain": [
       "<Figure size 432x288 with 0 Axes>"
      ]
     },
     "metadata": {},
     "output_type": "display_data"
    },
    {
     "data": {
      "text/plain": [
       "<Figure size 432x288 with 0 Axes>"
      ]
     },
     "metadata": {},
     "output_type": "display_data"
    },
    {
     "data": {
      "text/plain": [
       "<Figure size 432x288 with 0 Axes>"
      ]
     },
     "metadata": {},
     "output_type": "display_data"
    },
    {
     "data": {
      "text/plain": [
       "<Figure size 432x288 with 0 Axes>"
      ]
     },
     "metadata": {},
     "output_type": "display_data"
    },
    {
     "data": {
      "text/plain": [
       "<Figure size 432x288 with 0 Axes>"
      ]
     },
     "metadata": {},
     "output_type": "display_data"
    },
    {
     "data": {
      "text/plain": [
       "<Figure size 432x288 with 0 Axes>"
      ]
     },
     "metadata": {},
     "output_type": "display_data"
    },
    {
     "data": {
      "text/plain": [
       "<Figure size 432x288 with 0 Axes>"
      ]
     },
     "metadata": {},
     "output_type": "display_data"
    },
    {
     "data": {
      "text/plain": [
       "<Figure size 432x288 with 0 Axes>"
      ]
     },
     "metadata": {},
     "output_type": "display_data"
    },
    {
     "data": {
      "text/plain": [
       "<Figure size 432x288 with 0 Axes>"
      ]
     },
     "metadata": {},
     "output_type": "display_data"
    },
    {
     "data": {
      "text/plain": [
       "<Figure size 432x288 with 0 Axes>"
      ]
     },
     "metadata": {},
     "output_type": "display_data"
    },
    {
     "data": {
      "text/plain": [
       "<Figure size 432x288 with 0 Axes>"
      ]
     },
     "metadata": {},
     "output_type": "display_data"
    },
    {
     "data": {
      "text/plain": [
       "<Figure size 432x288 with 0 Axes>"
      ]
     },
     "metadata": {},
     "output_type": "display_data"
    },
    {
     "data": {
      "text/plain": [
       "<Figure size 432x288 with 0 Axes>"
      ]
     },
     "metadata": {},
     "output_type": "display_data"
    },
    {
     "data": {
      "text/plain": [
       "<Figure size 432x288 with 0 Axes>"
      ]
     },
     "metadata": {},
     "output_type": "display_data"
    },
    {
     "data": {
      "text/plain": [
       "<Figure size 432x288 with 0 Axes>"
      ]
     },
     "metadata": {},
     "output_type": "display_data"
    },
    {
     "data": {
      "text/plain": [
       "<Figure size 432x288 with 0 Axes>"
      ]
     },
     "metadata": {},
     "output_type": "display_data"
    },
    {
     "data": {
      "text/plain": [
       "<Figure size 432x288 with 0 Axes>"
      ]
     },
     "metadata": {},
     "output_type": "display_data"
    },
    {
     "data": {
      "text/plain": [
       "<Figure size 432x288 with 0 Axes>"
      ]
     },
     "metadata": {},
     "output_type": "display_data"
    },
    {
     "data": {
      "text/plain": [
       "<Figure size 432x288 with 0 Axes>"
      ]
     },
     "metadata": {},
     "output_type": "display_data"
    },
    {
     "data": {
      "text/plain": [
       "<Figure size 432x288 with 0 Axes>"
      ]
     },
     "metadata": {},
     "output_type": "display_data"
    },
    {
     "data": {
      "text/plain": [
       "<Figure size 432x288 with 0 Axes>"
      ]
     },
     "metadata": {},
     "output_type": "display_data"
    },
    {
     "data": {
      "text/plain": [
       "<Figure size 432x288 with 0 Axes>"
      ]
     },
     "metadata": {},
     "output_type": "display_data"
    },
    {
     "data": {
      "text/plain": [
       "<Figure size 432x288 with 0 Axes>"
      ]
     },
     "metadata": {},
     "output_type": "display_data"
    },
    {
     "data": {
      "text/plain": [
       "<Figure size 432x288 with 0 Axes>"
      ]
     },
     "metadata": {},
     "output_type": "display_data"
    },
    {
     "data": {
      "text/plain": [
       "<Figure size 432x288 with 0 Axes>"
      ]
     },
     "metadata": {},
     "output_type": "display_data"
    },
    {
     "data": {
      "text/plain": [
       "<Figure size 432x288 with 0 Axes>"
      ]
     },
     "metadata": {},
     "output_type": "display_data"
    },
    {
     "data": {
      "text/plain": [
       "<Figure size 432x288 with 0 Axes>"
      ]
     },
     "metadata": {},
     "output_type": "display_data"
    },
    {
     "data": {
      "text/plain": [
       "<Figure size 432x288 with 0 Axes>"
      ]
     },
     "metadata": {},
     "output_type": "display_data"
    },
    {
     "data": {
      "text/plain": [
       "<Figure size 432x288 with 0 Axes>"
      ]
     },
     "metadata": {},
     "output_type": "display_data"
    },
    {
     "data": {
      "text/plain": [
       "<Figure size 432x288 with 0 Axes>"
      ]
     },
     "metadata": {},
     "output_type": "display_data"
    },
    {
     "data": {
      "text/plain": [
       "<Figure size 432x288 with 0 Axes>"
      ]
     },
     "metadata": {},
     "output_type": "display_data"
    },
    {
     "data": {
      "text/plain": [
       "<Figure size 432x288 with 0 Axes>"
      ]
     },
     "metadata": {},
     "output_type": "display_data"
    },
    {
     "data": {
      "text/plain": [
       "<Figure size 432x288 with 0 Axes>"
      ]
     },
     "metadata": {},
     "output_type": "display_data"
    },
    {
     "data": {
      "text/plain": [
       "<Figure size 432x288 with 0 Axes>"
      ]
     },
     "metadata": {},
     "output_type": "display_data"
    },
    {
     "data": {
      "text/plain": [
       "<Figure size 432x288 with 0 Axes>"
      ]
     },
     "metadata": {},
     "output_type": "display_data"
    },
    {
     "data": {
      "text/plain": [
       "<Figure size 432x288 with 0 Axes>"
      ]
     },
     "metadata": {},
     "output_type": "display_data"
    },
    {
     "data": {
      "text/plain": [
       "<Figure size 432x288 with 0 Axes>"
      ]
     },
     "metadata": {},
     "output_type": "display_data"
    },
    {
     "data": {
      "text/plain": [
       "<Figure size 432x288 with 0 Axes>"
      ]
     },
     "metadata": {},
     "output_type": "display_data"
    },
    {
     "data": {
      "text/plain": [
       "<Figure size 432x288 with 0 Axes>"
      ]
     },
     "metadata": {},
     "output_type": "display_data"
    },
    {
     "data": {
      "text/plain": [
       "<Figure size 432x288 with 0 Axes>"
      ]
     },
     "metadata": {},
     "output_type": "display_data"
    },
    {
     "data": {
      "text/plain": [
       "<Figure size 432x288 with 0 Axes>"
      ]
     },
     "metadata": {},
     "output_type": "display_data"
    },
    {
     "data": {
      "text/plain": [
       "<Figure size 432x288 with 0 Axes>"
      ]
     },
     "metadata": {},
     "output_type": "display_data"
    },
    {
     "data": {
      "text/plain": [
       "<Figure size 432x288 with 0 Axes>"
      ]
     },
     "metadata": {},
     "output_type": "display_data"
    },
    {
     "data": {
      "text/plain": [
       "<Figure size 432x288 with 0 Axes>"
      ]
     },
     "metadata": {},
     "output_type": "display_data"
    },
    {
     "data": {
      "text/plain": [
       "<Figure size 432x288 with 0 Axes>"
      ]
     },
     "metadata": {},
     "output_type": "display_data"
    },
    {
     "data": {
      "text/plain": [
       "<Figure size 432x288 with 0 Axes>"
      ]
     },
     "metadata": {},
     "output_type": "display_data"
    },
    {
     "data": {
      "text/plain": [
       "<Figure size 432x288 with 0 Axes>"
      ]
     },
     "metadata": {},
     "output_type": "display_data"
    },
    {
     "data": {
      "text/plain": [
       "<Figure size 432x288 with 0 Axes>"
      ]
     },
     "metadata": {},
     "output_type": "display_data"
    },
    {
     "data": {
      "text/plain": [
       "<Figure size 432x288 with 0 Axes>"
      ]
     },
     "metadata": {},
     "output_type": "display_data"
    },
    {
     "data": {
      "text/plain": [
       "<Figure size 432x288 with 0 Axes>"
      ]
     },
     "metadata": {},
     "output_type": "display_data"
    },
    {
     "data": {
      "text/plain": [
       "<Figure size 432x288 with 0 Axes>"
      ]
     },
     "metadata": {},
     "output_type": "display_data"
    },
    {
     "data": {
      "text/plain": [
       "<Figure size 432x288 with 0 Axes>"
      ]
     },
     "metadata": {},
     "output_type": "display_data"
    },
    {
     "data": {
      "text/plain": [
       "<Figure size 432x288 with 0 Axes>"
      ]
     },
     "metadata": {},
     "output_type": "display_data"
    },
    {
     "data": {
      "text/plain": [
       "<Figure size 432x288 with 0 Axes>"
      ]
     },
     "metadata": {},
     "output_type": "display_data"
    },
    {
     "data": {
      "text/plain": [
       "<Figure size 432x288 with 0 Axes>"
      ]
     },
     "metadata": {},
     "output_type": "display_data"
    },
    {
     "data": {
      "text/plain": [
       "<Figure size 432x288 with 0 Axes>"
      ]
     },
     "metadata": {},
     "output_type": "display_data"
    }
   ],
   "source": [
    "# ## fazendo o gif\n",
    "\n",
    "# for i in tqdm(range(240)):\n",
    "    \n",
    "#     f, ax = plt.subplots()\n",
    "    \n",
    "#     ax.set_xlim(ax1.get_xlim())\n",
    "#     ax.set_ylim(ax1.get_ylim())\n",
    "    \n",
    "#     ax.set_xbound(ax1.get_xbound())\n",
    "#     ax.set_ybound(ax1.get_ybound())\n",
    "    \n",
    "#     ax.set_title(f'limiar : {limiares[i]}')\n",
    "    \n",
    "#     ax.plot(limiares[:i],ls_clean[:i],color='tab:blue', label = 'erro clean')\n",
    "#     ax.plot(limiares[:i],ls_fraud[:i],color='tab:orange',label = 'erro fraud')\n",
    "    \n",
    "#     ax.legend(loc=1)\n",
    "    \n",
    "#     f.savefig(f'gif/frame{i}.png',dpi=600)\n",
    "    \n",
    "#     f.clear()\n",
    "    \n",
    "# plt.show()"
   ]
  },
  {
   "cell_type": "markdown",
   "id": "955de6cf-2c7e-4f64-b59e-e71dc3e7e2e3",
   "metadata": {},
   "source": [
    "### Recriando o encoder e o decoder"
   ]
  },
  {
   "cell_type": "code",
   "execution_count": 238,
   "id": "bc5f2972-28fd-4bf0-951b-55b5c363266a",
   "metadata": {
    "jupyter": {
     "source_hidden": true
    },
    "tags": []
   },
   "outputs": [],
   "source": [
    "def plot_model_values(model,x):\n",
    "    \n",
    "    outputs = []\n",
    "\n",
    "    for layer in model.layers:\n",
    "        keras_function = K.function([model.input], [layer.output])\n",
    "        outputs.append(keras_function(x.reshape(1,-1)))\n",
    "        \n",
    "        \n",
    "    f, ax = plt.subplots(9,1,figsize=(12,8),constrained_layout=True)\n",
    "\n",
    "    layers_nodes = [16,8,4,2,4,8,16,28]\n",
    "\n",
    "    ax[0].imshow(x.reshape(1,28),cmap='Reds')\n",
    "    ax[0].axis('off')\n",
    "\n",
    "    for i,value in enumerate(x):\n",
    "        ax[0].text(x=i,y=0,s=round(value,2),ha=\"center\", va=\"center\", fontdict={'size':9})\n",
    "\n",
    "    for i,layer in enumerate(layers_nodes):\n",
    "        ax[i+1].imshow(outputs[i][0].squeeze().reshape(1,layer),cmap='Reds')\n",
    "        ax[i+1].axis('off')\n",
    "\n",
    "        for idx,value in enumerate(outputs[i][0].squeeze()):\n",
    "            ax[i+1].text(x=idx,y=0,s=round(value,2),ha=\"center\", va=\"center\", fontdict={'size':9})\n",
    "\n",
    "    ax[4].text(x=-3,y=0,s='VETOR LATENTE ----->')\n",
    "\n",
    "    plt.show()"
   ]
  },
  {
   "cell_type": "code",
   "execution_count": 239,
   "id": "eeb1d4de-8ce6-40bc-b66e-961c9b14a9fe",
   "metadata": {},
   "outputs": [
    {
     "data": {
      "image/png": "[encoded data removed]",
      "text/plain": [
       "<Figure size 864x576 with 9 Axes>"
      ]
     },
     "metadata": {
      "needs_background": "light"
     },
     "output_type": "display_data"
    }
   ],
   "source": [
    "plot_model_values(model,x_test_scaled[0])"
   ]
  },
  {
   "cell_type": "code",
   "execution_count": 240,
   "id": "27b2692b-9324-4ec2-a4c0-a6a6cf0d5156",
   "metadata": {},
   "outputs": [
    {
     "data": {
      "image/png": "[encoded data removed]",
      "text/plain": [
       "<Figure size 864x576 with 9 Axes>"
      ]
     },
     "metadata": {
      "needs_background": "light"
     },
     "output_type": "display_data"
    }
   ],
   "source": [
    "plot_model_values(model,x_test_scaled[y_test == 1][0])"
   ]
  },
  {
   "cell_type": "markdown",
   "id": "84985747-7c4a-4a8c-ad6f-63199eef2a55",
   "metadata": {},
   "source": [
    "## Não Supervisionado - Outlier Dectection"
   ]
  },
  {
   "cell_type": "markdown",
   "id": "564dbd74-d28a-429f-89f0-22693be7820c",
   "metadata": {},
   "source": [
    "### Preparando os dados"
   ]
  },
  {
   "cell_type": "code",
   "execution_count": 293,
   "id": "f2a58300-0f9a-42c5-959a-f746bb7a8042",
   "metadata": {},
   "outputs": [
    {
     "data": {
      "text/html": [
       "<div>\n",
       "<style scoped>\n",
       "    .dataframe tbody tr th:only-of-type {\n",
       "        vertical-align: middle;\n",
       "    }\n",
       "\n",
       "    .dataframe tbody tr th {\n",
       "        vertical-align: top;\n",
       "    }\n",
       "\n",
       "    .dataframe thead th {\n",
       "        text-align: right;\n",
       "    }\n",
       "</style>\n",
       "<table border=\"1\" class=\"dataframe\">\n",
       "  <thead>\n",
       "    <tr style=\"text-align: right;\">\n",
       "      <th></th>\n",
       "      <th>V1</th>\n",
       "      <th>V2</th>\n",
       "      <th>V3</th>\n",
       "      <th>V4</th>\n",
       "      <th>V5</th>\n",
       "      <th>V6</th>\n",
       "      <th>V7</th>\n",
       "      <th>V8</th>\n",
       "      <th>V9</th>\n",
       "      <th>V10</th>\n",
       "      <th>...</th>\n",
       "      <th>V19</th>\n",
       "      <th>V20</th>\n",
       "      <th>V21</th>\n",
       "      <th>V22</th>\n",
       "      <th>V23</th>\n",
       "      <th>V24</th>\n",
       "      <th>V25</th>\n",
       "      <th>V26</th>\n",
       "      <th>V27</th>\n",
       "      <th>V28</th>\n",
       "    </tr>\n",
       "  </thead>\n",
       "  <tbody>\n",
       "    <tr>\n",
       "      <th>43428</th>\n",
       "      <td>-16.526507</td>\n",
       "      <td>8.584972</td>\n",
       "      <td>-18.649853</td>\n",
       "      <td>9.505594</td>\n",
       "      <td>-13.793819</td>\n",
       "      <td>-2.832404</td>\n",
       "      <td>-16.701694</td>\n",
       "      <td>7.517344</td>\n",
       "      <td>-8.507059</td>\n",
       "      <td>-14.110184</td>\n",
       "      <td>...</td>\n",
       "      <td>3.101735</td>\n",
       "      <td>-1.514923</td>\n",
       "      <td>1.190739</td>\n",
       "      <td>-1.127670</td>\n",
       "      <td>-2.358579</td>\n",
       "      <td>0.673461</td>\n",
       "      <td>-1.413700</td>\n",
       "      <td>-0.462762</td>\n",
       "      <td>-2.018575</td>\n",
       "      <td>-1.042804</td>\n",
       "    </tr>\n",
       "    <tr>\n",
       "      <th>49906</th>\n",
       "      <td>0.339812</td>\n",
       "      <td>-2.743745</td>\n",
       "      <td>-0.134070</td>\n",
       "      <td>-1.385729</td>\n",
       "      <td>-1.451413</td>\n",
       "      <td>1.015887</td>\n",
       "      <td>-0.524379</td>\n",
       "      <td>0.224060</td>\n",
       "      <td>0.899746</td>\n",
       "      <td>-0.565012</td>\n",
       "      <td>...</td>\n",
       "      <td>0.432546</td>\n",
       "      <td>0.506044</td>\n",
       "      <td>-0.213436</td>\n",
       "      <td>-0.942525</td>\n",
       "      <td>-0.526819</td>\n",
       "      <td>-1.156992</td>\n",
       "      <td>0.311211</td>\n",
       "      <td>-0.746647</td>\n",
       "      <td>0.040996</td>\n",
       "      <td>0.102038</td>\n",
       "    </tr>\n",
       "    <tr>\n",
       "      <th>29474</th>\n",
       "      <td>1.399590</td>\n",
       "      <td>-0.590701</td>\n",
       "      <td>0.168619</td>\n",
       "      <td>-1.029950</td>\n",
       "      <td>-0.539806</td>\n",
       "      <td>0.040444</td>\n",
       "      <td>-0.712567</td>\n",
       "      <td>0.002299</td>\n",
       "      <td>-0.971747</td>\n",
       "      <td>0.756801</td>\n",
       "      <td>...</td>\n",
       "      <td>1.192245</td>\n",
       "      <td>0.212877</td>\n",
       "      <td>0.102398</td>\n",
       "      <td>0.168269</td>\n",
       "      <td>-0.166639</td>\n",
       "      <td>-0.810250</td>\n",
       "      <td>0.505083</td>\n",
       "      <td>-0.232340</td>\n",
       "      <td>0.011409</td>\n",
       "      <td>0.004634</td>\n",
       "    </tr>\n",
       "    <tr>\n",
       "      <th>276481</th>\n",
       "      <td>-0.432071</td>\n",
       "      <td>1.647895</td>\n",
       "      <td>-1.669361</td>\n",
       "      <td>-0.349504</td>\n",
       "      <td>0.785785</td>\n",
       "      <td>-0.630647</td>\n",
       "      <td>0.276990</td>\n",
       "      <td>0.586025</td>\n",
       "      <td>-0.484715</td>\n",
       "      <td>-1.376648</td>\n",
       "      <td>...</td>\n",
       "      <td>0.101264</td>\n",
       "      <td>-0.244633</td>\n",
       "      <td>0.358932</td>\n",
       "      <td>0.873663</td>\n",
       "      <td>-0.178642</td>\n",
       "      <td>-0.017171</td>\n",
       "      <td>-0.207392</td>\n",
       "      <td>-0.157756</td>\n",
       "      <td>-0.237386</td>\n",
       "      <td>0.001934</td>\n",
       "    </tr>\n",
       "    <tr>\n",
       "      <th>278846</th>\n",
       "      <td>2.014160</td>\n",
       "      <td>-0.137394</td>\n",
       "      <td>-1.015839</td>\n",
       "      <td>0.327269</td>\n",
       "      <td>-0.182179</td>\n",
       "      <td>-0.956571</td>\n",
       "      <td>0.043241</td>\n",
       "      <td>-0.160746</td>\n",
       "      <td>0.363241</td>\n",
       "      <td>0.259452</td>\n",
       "      <td>...</td>\n",
       "      <td>0.404711</td>\n",
       "      <td>-0.255293</td>\n",
       "      <td>-0.238644</td>\n",
       "      <td>-0.616400</td>\n",
       "      <td>0.347045</td>\n",
       "      <td>0.061561</td>\n",
       "      <td>-0.360196</td>\n",
       "      <td>0.174730</td>\n",
       "      <td>-0.078043</td>\n",
       "      <td>-0.070571</td>\n",
       "    </tr>\n",
       "  </tbody>\n",
       "</table>\n",
       "<p>5 rows × 28 columns</p>\n",
       "</div>"
      ],
      "text/plain": [
       "               V1        V2         V3        V4         V5        V6  \\\n",
       "43428  -16.526507  8.584972 -18.649853  9.505594 -13.793819 -2.832404   \n",
       "49906    0.339812 -2.743745  -0.134070 -1.385729  -1.451413  1.015887   \n",
       "29474    1.399590 -0.590701   0.168619 -1.029950  -0.539806  0.040444   \n",
       "276481  -0.432071  1.647895  -1.669361 -0.349504   0.785785 -0.630647   \n",
       "278846   2.014160 -0.137394  -1.015839  0.327269  -0.182179 -0.956571   \n",
       "\n",
       "               V7        V8        V9        V10  ...       V19       V20  \\\n",
       "43428  -16.701694  7.517344 -8.507059 -14.110184  ...  3.101735 -1.514923   \n",
       "49906   -0.524379  0.224060  0.899746  -0.565012  ...  0.432546  0.506044   \n",
       "29474   -0.712567  0.002299 -0.971747   0.756801  ...  1.192245  0.212877   \n",
       "276481   0.276990  0.586025 -0.484715  -1.376648  ...  0.101264 -0.244633   \n",
       "278846   0.043241 -0.160746  0.363241   0.259452  ...  0.404711 -0.255293   \n",
       "\n",
       "             V21       V22       V23       V24       V25       V26       V27  \\\n",
       "43428   1.190739 -1.127670 -2.358579  0.673461 -1.413700 -0.462762 -2.018575   \n",
       "49906  -0.213436 -0.942525 -0.526819 -1.156992  0.311211 -0.746647  0.040996   \n",
       "29474   0.102398  0.168269 -0.166639 -0.810250  0.505083 -0.232340  0.011409   \n",
       "276481  0.358932  0.873663 -0.178642 -0.017171 -0.207392 -0.157756 -0.237386   \n",
       "278846 -0.238644 -0.616400  0.347045  0.061561 -0.360196  0.174730 -0.078043   \n",
       "\n",
       "             V28  \n",
       "43428  -1.042804  \n",
       "49906   0.102038  \n",
       "29474   0.004634  \n",
       "276481  0.001934  \n",
       "278846 -0.070571  \n",
       "\n",
       "[5 rows x 28 columns]"
      ]
     },
     "execution_count": 293,
     "metadata": {},
     "output_type": "execute_result"
    }
   ],
   "source": [
    "train_data = (\n",
    "    df\n",
    "    .sample(frac=1)\n",
    ")\n",
    "\n",
    "target = train_data.Class\n",
    "\n",
    "train_data.drop('Class',axis=1,inplace=True)\n",
    "train_data.head()"
   ]
  },
  {
   "cell_type": "code",
   "execution_count": 294,
   "id": "594e0ab2-9e2c-44da-aea7-89085af892b5",
   "metadata": {},
   "outputs": [],
   "source": [
    "x_train, x_test, y_train, y_test = train_test_split(train_data,target,test_size=VAL_SIZE,random_state=RANDOM_SEED)"
   ]
  },
  {
   "cell_type": "code",
   "execution_count": 299,
   "id": "bfc6a841-4ec6-41f9-8405-5953371c15a8",
   "metadata": {},
   "outputs": [
    {
     "data": {
      "text/html": [
       "<style>#sk-f1f5cb9b-9011-4d2e-aefa-7d14f8b4145b {color: black;background-color: white;}#sk-f1f5cb9b-9011-4d2e-aefa-7d14f8b4145b pre{padding: 0;}#sk-f1f5cb9b-9011-4d2e-aefa-7d14f8b4145b div.sk-toggleable {background-color: white;}#sk-f1f5cb9b-9011-4d2e-aefa-7d14f8b4145b label.sk-toggleable__label {cursor: pointer;display: block;width: 100%;margin-bottom: 0;padding: 0.2em 0.3em;box-sizing: border-box;text-align: center;}#sk-f1f5cb9b-9011-4d2e-aefa-7d14f8b4145b div.sk-toggleable__content {max-height: 0;max-width: 0;overflow: hidden;text-align: left;background-color: #f0f8ff;}#sk-f1f5cb9b-9011-4d2e-aefa-7d14f8b4145b div.sk-toggleable__content pre {margin: 0.2em;color: black;border-radius: 0.25em;background-color: #f0f8ff;}#sk-f1f5cb9b-9011-4d2e-aefa-7d14f8b4145b input.sk-toggleable__control:checked~div.sk-toggleable__content {max-height: 200px;max-width: 100%;overflow: auto;}#sk-f1f5cb9b-9011-4d2e-aefa-7d14f8b4145b div.sk-estimator input.sk-toggleable__control:checked~label.sk-toggleable__label {background-color: #d4ebff;}#sk-f1f5cb9b-9011-4d2e-aefa-7d14f8b4145b div.sk-label input.sk-toggleable__control:checked~label.sk-toggleable__label {background-color: #d4ebff;}#sk-f1f5cb9b-9011-4d2e-aefa-7d14f8b4145b input.sk-hidden--visually {border: 0;clip: rect(1px 1px 1px 1px);clip: rect(1px, 1px, 1px, 1px);height: 1px;margin: -1px;overflow: hidden;padding: 0;position: absolute;width: 1px;}#sk-f1f5cb9b-9011-4d2e-aefa-7d14f8b4145b div.sk-estimator {font-family: monospace;background-color: #f0f8ff;margin: 0.25em 0.25em;border: 1px dotted black;border-radius: 0.25em;box-sizing: border-box;}#sk-f1f5cb9b-9011-4d2e-aefa-7d14f8b4145b div.sk-estimator:hover {background-color: #d4ebff;}#sk-f1f5cb9b-9011-4d2e-aefa-7d14f8b4145b div.sk-parallel-item::after {content: \"\";width: 100%;border-bottom: 1px solid gray;flex-grow: 1;}#sk-f1f5cb9b-9011-4d2e-aefa-7d14f8b4145b div.sk-label:hover label.sk-toggleable__label {background-color: #d4ebff;}#sk-f1f5cb9b-9011-4d2e-aefa-7d14f8b4145b div.sk-serial::before {content: \"\";position: absolute;border-left: 1px solid gray;box-sizing: border-box;top: 2em;bottom: 0;left: 50%;}#sk-f1f5cb9b-9011-4d2e-aefa-7d14f8b4145b div.sk-serial {display: flex;flex-direction: column;align-items: center;background-color: white;}#sk-f1f5cb9b-9011-4d2e-aefa-7d14f8b4145b div.sk-item {z-index: 1;}#sk-f1f5cb9b-9011-4d2e-aefa-7d14f8b4145b div.sk-parallel {display: flex;align-items: stretch;justify-content: center;background-color: white;}#sk-f1f5cb9b-9011-4d2e-aefa-7d14f8b4145b div.sk-parallel-item {display: flex;flex-direction: column;position: relative;background-color: white;}#sk-f1f5cb9b-9011-4d2e-aefa-7d14f8b4145b div.sk-parallel-item:first-child::after {align-self: flex-end;width: 50%;}#sk-f1f5cb9b-9011-4d2e-aefa-7d14f8b4145b div.sk-parallel-item:last-child::after {align-self: flex-start;width: 50%;}#sk-f1f5cb9b-9011-4d2e-aefa-7d14f8b4145b div.sk-parallel-item:only-child::after {width: 0;}#sk-f1f5cb9b-9011-4d2e-aefa-7d14f8b4145b div.sk-dashed-wrapped {border: 1px dashed gray;margin: 0.2em;box-sizing: border-box;padding-bottom: 0.1em;background-color: white;position: relative;}#sk-f1f5cb9b-9011-4d2e-aefa-7d14f8b4145b div.sk-label label {font-family: monospace;font-weight: bold;background-color: white;display: inline-block;line-height: 1.2em;}#sk-f1f5cb9b-9011-4d2e-aefa-7d14f8b4145b div.sk-label-container {position: relative;z-index: 2;text-align: center;}#sk-f1f5cb9b-9011-4d2e-aefa-7d14f8b4145b div.sk-container {display: inline-block;position: relative;}</style><div id=\"sk-f1f5cb9b-9011-4d2e-aefa-7d14f8b4145b\" class\"sk-top-container\"><div class=\"sk-container\"><div class=\"sk-item sk-dashed-wrapped\"><div class=\"sk-label-container\"><div class=\"sk-label sk-toggleable\"><input class=\"sk-toggleable__control sk-hidden--visually\" id=\"115cf20f-a2bb-448e-ba5b-4a2e3aa0d8e5\" type=\"checkbox\" ><label class=\"sk-toggleable__label\" for=\"115cf20f-a2bb-448e-ba5b-4a2e3aa0d8e5\">Pipeline</label><div class=\"sk-toggleable__content\"><pre>Pipeline(steps=[('normalizer', Normalizer()), ('minmaxscaler', MinMaxScaler())])</pre></div></div></div><div class=\"sk-serial\"><div class=\"sk-item\"><div class=\"sk-estimator sk-toggleable\"><input class=\"sk-toggleable__control sk-hidden--visually\" id=\"6726c38b-6169-4801-902a-03fad4e9545a\" type=\"checkbox\" ><label class=\"sk-toggleable__label\" for=\"6726c38b-6169-4801-902a-03fad4e9545a\">Normalizer</label><div class=\"sk-toggleable__content\"><pre>Normalizer()</pre></div></div></div><div class=\"sk-item\"><div class=\"sk-estimator sk-toggleable\"><input class=\"sk-toggleable__control sk-hidden--visually\" id=\"0df1c2d6-193d-4ae6-b3f5-2d9adcda4c60\" type=\"checkbox\" ><label class=\"sk-toggleable__label\" for=\"0df1c2d6-193d-4ae6-b3f5-2d9adcda4c60\">MinMaxScaler</label><div class=\"sk-toggleable__content\"><pre>MinMaxScaler()</pre></div></div></div></div></div></div></div>"
      ],
      "text/plain": [
       "Pipeline(steps=[('normalizer', Normalizer()), ('minmaxscaler', MinMaxScaler())])"
      ]
     },
     "execution_count": 299,
     "metadata": {},
     "output_type": "execute_result"
    }
   ],
   "source": [
    "pipe = make_pipeline(Normalizer(),MinMaxScaler())\n",
    "pipe"
   ]
  },
  {
   "cell_type": "code",
   "execution_count": 300,
   "id": "ac14bdc1-3fa5-4a4c-89d6-e4107e22b54c",
   "metadata": {},
   "outputs": [],
   "source": [
    "x_train_scaled = pipe.fit_transform(x_train)\n",
    "x_test_scaled = pipe.transform(x_test)"
   ]
  },
  {
   "cell_type": "markdown",
   "id": "52f284bc-03ec-4d87-aa4d-b3d8261ad7ab",
   "metadata": {},
   "source": [
    "### Construção do Autoencoder"
   ]
  },
  {
   "cell_type": "code",
   "execution_count": 301,
   "id": "0fba74cf-32d4-4654-9646-a732b162341a",
   "metadata": {},
   "outputs": [],
   "source": [
    "X_SHAPE = x_train_scaled.shape[1]"
   ]
  },
  {
   "cell_type": "code",
   "execution_count": 302,
   "id": "de0429e3-a701-4e68-adae-1f07218a1f83",
   "metadata": {},
   "outputs": [
    {
     "name": "stdout",
     "output_type": "stream",
     "text": [
      "Model: \"sequential_2\"\n",
      "_________________________________________________________________\n",
      "Layer (type)                 Output Shape              Param #   \n",
      "=================================================================\n",
      "dense_14 (Dense)             (None, 16)                464       \n",
      "_________________________________________________________________\n",
      "dense_15 (Dense)             (None, 8)                 136       \n",
      "_________________________________________________________________\n",
      "dense_16 (Dense)             (None, 4)                 36        \n",
      "_________________________________________________________________\n",
      "VETOR_LATENTE (Dense)        (None, 2)                 10        \n",
      "_________________________________________________________________\n",
      "dense_17 (Dense)             (None, 4)                 12        \n",
      "_________________________________________________________________\n",
      "dense_18 (Dense)             (None, 8)                 40        \n",
      "_________________________________________________________________\n",
      "dense_19 (Dense)             (None, 16)                144       \n",
      "_________________________________________________________________\n",
      "dense_20 (Dense)             (None, 28)                476       \n",
      "=================================================================\n",
      "Total params: 1,318\n",
      "Trainable params: 1,318\n",
      "Non-trainable params: 0\n",
      "_________________________________________________________________\n"
     ]
    }
   ],
   "source": [
    "model = models.Sequential()\n",
    "\n",
    "## encoder\n",
    "model.add(layers.Dense(16,input_dim=X_SHAPE,activation='elu'))\n",
    "model.add(layers.Dense(8,activation='elu'))\n",
    "model.add(layers.Dense(4,activation='elu'))\n",
    "\n",
    "## vetor latente\n",
    "model.add(layers.Dense(2,activation='elu',name='VETOR_LATENTE'))\n",
    "\n",
    "## decoder\n",
    "model.add(layers.Dense(4,activation='elu'))\n",
    "model.add(layers.Dense(8,activation='elu'))\n",
    "model.add(layers.Dense(16,activation='elu'))\n",
    "\n",
    "## output_layer\n",
    "model.add(layers.Dense(X_SHAPE,activation='elu'))\n",
    "\n",
    "model.compile(optimizer='adam', loss='mse')\n",
    "model.summary();"
   ]
  },
  {
   "cell_type": "code",
   "execution_count": 341,
   "id": "bbebf3fe-de4e-4058-bbc3-ff8e0c394067",
   "metadata": {},
   "outputs": [],
   "source": [
    "early_stop = callbacks.EarlyStopping(\n",
    "    monitor='val_loss',\n",
    "    min_delta=0.0001,\n",
    "    patience=int(EPOCHS*0.1),\n",
    "    verbose=1, \n",
    "    mode='min',\n",
    "    restore_best_weights=True\n",
    ")"
   ]
  },
  {
   "cell_type": "markdown",
   "id": "98cb9874-d9ea-485a-925e-9dc4245c0317",
   "metadata": {},
   "source": [
    "### Treinamento do Autoencoder"
   ]
  },
  {
   "cell_type": "code",
   "execution_count": 343,
   "id": "33c82cdc-6efd-4c58-98b9-e9f062b985f7",
   "metadata": {},
   "outputs": [
    {
     "name": "stdout",
     "output_type": "stream",
     "text": [
      "Restoring model weights from the end of the best epoch.\n",
      "Epoch 00022: early stopping\n"
     ]
    }
   ],
   "source": [
    "fitting_data = model.fit(x_train_scaled,\n",
    "                         x_train_scaled,\n",
    "                         epochs=EPOCHS,\n",
    "                         batch_size=BATCH_SIZE,\n",
    "                         callbacks=early_stop,\n",
    "                         validation_data=(x_test_scaled,x_test_scaled),\n",
    "                         verbose=0)"
   ]
  },
  {
   "cell_type": "markdown",
   "id": "90236d46-3306-472c-84d3-3a7c958bb54d",
   "metadata": {},
   "source": [
    "### Encontrando anomalias"
   ]
  },
  {
   "cell_type": "code",
   "execution_count": 344,
   "id": "98447211-3190-495a-88e1-7f63dd1e0059",
   "metadata": {},
   "outputs": [],
   "source": [
    "## reconstruindo dados\n",
    "reconstrucao  = model.predict(x_test_scaled)"
   ]
  },
  {
   "cell_type": "code",
   "execution_count": 345,
   "id": "d56b17ce-92e9-4580-98fb-4024f6f0f946",
   "metadata": {},
   "outputs": [],
   "source": [
    "## calculando a loss (mse -> anomaly score)\n",
    "\n",
    "anon_score = np.mean(np.power(x_test_scaled - reconstrucao,2),axis=1)"
   ]
  },
  {
   "cell_type": "code",
   "execution_count": 346,
   "id": "0d2b9e31-2861-4026-a2b9-cbca397b9352",
   "metadata": {},
   "outputs": [
    {
     "data": {
      "image/png": "[encoded data removed]",
      "text/plain": [
       "<Figure size 792x432 with 1 Axes>"
      ]
     },
     "metadata": {
      "needs_background": "light"
     },
     "output_type": "display_data"
    }
   ],
   "source": [
    "fig, ax = plt.subplots(figsize=(11,6))\n",
    "\n",
    "ax.hist(anon_score, bins=50, density=True, label='MSE', alpha=.6, color=\"tab:blue\")\n",
    "# ax.axvline(np.median(anon_score),alpha=.6,ls='--',color='tab:red',label='Mediana')\n",
    "# ax.axvspan(np.percentile(anon_score,95), anon_score.max(), alpha=0.2, color='tab:red')\n",
    "\n",
    "plt.title(\"Score de Anomalia\")\n",
    "plt.legend()\n",
    "plt.show()"
   ]
  },
  {
   "cell_type": "code",
   "execution_count": 347,
   "id": "0bc7754f-fb78-492a-904a-55e197365267",
   "metadata": {},
   "outputs": [
    {
     "data": {
      "text/plain": [
       "0.8888888888888888"
      ]
     },
     "execution_count": 347,
     "metadata": {},
     "output_type": "execute_result"
    }
   ],
   "source": [
    "(anon_score[y_test == 1] > np.percentile(anon_score,95)).sum() / len(anon_score[y_test == 1])"
   ]
  }
 ],
 "metadata": {
  "kernelspec": {
   "display_name": "Python 3 (ipykernel)",
   "language": "python",
   "name": "python3"
  },
  "language_info": {
   "codemirror_mode": {
    "name": "ipython",
    "version": 3
   },
   "file_extension": ".py",
   "mimetype": "text/x-python",
   "name": "python",
   "nbconvert_exporter": "python",
   "pygments_lexer": "ipython3",
   "version": "3.9.7"
  }
 },
 "nbformat": 4,
 "nbformat_minor": 5
}
